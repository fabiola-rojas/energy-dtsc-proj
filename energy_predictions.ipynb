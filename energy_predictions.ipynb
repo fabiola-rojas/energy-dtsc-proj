{
 "cells": [
  {
   "cell_type": "code",
   "execution_count": 81,
   "id": "d4c1bb7d-a715-4162-8b04-7c54927f345b",
   "metadata": {
    "tags": []
   },
   "outputs": [],
   "source": [
    "import pandas as pd\n",
    "energy = pd.read_csv(\"/Users/fabiolarojas/Documents/data-science/dtsc2103:2/2302project/energydf.csv\")\n"
   ]
  },
  {
   "cell_type": "code",
   "execution_count": 82,
   "id": "08d9341e-b428-49a2-9003-fac2b36632ca",
   "metadata": {
    "tags": []
   },
   "outputs": [
    {
     "data": {
      "text/plain": [
       "dtype('O')"
      ]
     },
     "execution_count": 82,
     "metadata": {},
     "output_type": "execute_result"
    }
   ],
   "source": [
    "energy['time'].dtype"
   ]
  },
  {
   "cell_type": "code",
   "execution_count": 83,
   "id": "54dfbdd0-2141-4b71-bbe5-1cf17d91ef4d",
   "metadata": {
    "tags": []
   },
   "outputs": [
    {
     "name": "stdout",
     "output_type": "stream",
     "text": [
      "Successfully converted 'time' column to datetime type.\n"
     ]
    },
    {
     "data": {
      "text/plain": [
       "datetime64[ns, UTC]"
      ]
     },
     "execution_count": 83,
     "metadata": {},
     "output_type": "execute_result"
    }
   ],
   "source": [
    "try:\n",
    "    energy['time'] = pd.to_datetime(energy['time'], utc=True)\n",
    "    print(\"Successfully converted 'time' column to datetime type.\")\n",
    "except ValueError as e:\n",
    "    print(\"Error encountered while converting 'time' column:\", e)\n",
    "\n",
    "energy['time'].dtype"
   ]
  },
  {
   "cell_type": "markdown",
   "id": "6db5dcd7-34cf-4006-9c36-e0fa7a90f113",
   "metadata": {},
   "source": [
    "## winter dataset"
   ]
  },
  {
   "cell_type": "code",
   "execution_count": 96,
   "id": "217daea9-1373-43c6-87d9-d8baefc69b70",
   "metadata": {
    "tags": []
   },
   "outputs": [
    {
     "data": {
      "text/html": [
       "<div>\n",
       "<style scoped>\n",
       "    .dataframe tbody tr th:only-of-type {\n",
       "        vertical-align: middle;\n",
       "    }\n",
       "\n",
       "    .dataframe tbody tr th {\n",
       "        vertical-align: top;\n",
       "    }\n",
       "\n",
       "    .dataframe thead th {\n",
       "        text-align: right;\n",
       "    }\n",
       "</style>\n",
       "<table border=\"1\" class=\"dataframe\">\n",
       "  <thead>\n",
       "    <tr style=\"text-align: right;\">\n",
       "      <th></th>\n",
       "      <th>time</th>\n",
       "      <th>generation biomass</th>\n",
       "      <th>generation fossil</th>\n",
       "      <th>generation hydro</th>\n",
       "      <th>generation nuclear</th>\n",
       "      <th>generation solar</th>\n",
       "      <th>generation waste</th>\n",
       "      <th>generation wind onshore</th>\n",
       "      <th>generation other</th>\n",
       "      <th>generation other renewable</th>\n",
       "      <th>total load forecast</th>\n",
       "      <th>total load actual</th>\n",
       "      <th>price day ahead</th>\n",
       "      <th>price actual</th>\n",
       "    </tr>\n",
       "  </thead>\n",
       "  <tbody>\n",
       "    <tr>\n",
       "      <th>1</th>\n",
       "      <td>2015-01-01 00:00:00+00:00</td>\n",
       "      <td>449.0</td>\n",
       "      <td>10437.0</td>\n",
       "      <td>3587.0</td>\n",
       "      <td>7096.0</td>\n",
       "      <td>50.0</td>\n",
       "      <td>195.0</td>\n",
       "      <td>5890.0</td>\n",
       "      <td>43.0</td>\n",
       "      <td>71.0</td>\n",
       "      <td>24934.0</td>\n",
       "      <td>24382.0</td>\n",
       "      <td>48.10</td>\n",
       "      <td>64.92</td>\n",
       "    </tr>\n",
       "    <tr>\n",
       "      <th>2</th>\n",
       "      <td>2015-01-01 01:00:00+00:00</td>\n",
       "      <td>448.0</td>\n",
       "      <td>9918.0</td>\n",
       "      <td>3508.0</td>\n",
       "      <td>7099.0</td>\n",
       "      <td>50.0</td>\n",
       "      <td>196.0</td>\n",
       "      <td>5461.0</td>\n",
       "      <td>43.0</td>\n",
       "      <td>73.0</td>\n",
       "      <td>23515.0</td>\n",
       "      <td>22734.0</td>\n",
       "      <td>47.33</td>\n",
       "      <td>64.48</td>\n",
       "    </tr>\n",
       "    <tr>\n",
       "      <th>3</th>\n",
       "      <td>2015-01-01 02:00:00+00:00</td>\n",
       "      <td>438.0</td>\n",
       "      <td>8859.0</td>\n",
       "      <td>3231.0</td>\n",
       "      <td>7098.0</td>\n",
       "      <td>50.0</td>\n",
       "      <td>191.0</td>\n",
       "      <td>5238.0</td>\n",
       "      <td>43.0</td>\n",
       "      <td>75.0</td>\n",
       "      <td>22642.0</td>\n",
       "      <td>21286.0</td>\n",
       "      <td>42.27</td>\n",
       "      <td>59.32</td>\n",
       "    </tr>\n",
       "    <tr>\n",
       "      <th>4</th>\n",
       "      <td>2015-01-01 03:00:00+00:00</td>\n",
       "      <td>428.0</td>\n",
       "      <td>8313.0</td>\n",
       "      <td>3499.0</td>\n",
       "      <td>7097.0</td>\n",
       "      <td>42.0</td>\n",
       "      <td>189.0</td>\n",
       "      <td>4935.0</td>\n",
       "      <td>43.0</td>\n",
       "      <td>74.0</td>\n",
       "      <td>21785.0</td>\n",
       "      <td>20264.0</td>\n",
       "      <td>38.41</td>\n",
       "      <td>56.04</td>\n",
       "    </tr>\n",
       "    <tr>\n",
       "      <th>5</th>\n",
       "      <td>2015-01-01 04:00:00+00:00</td>\n",
       "      <td>410.0</td>\n",
       "      <td>7962.0</td>\n",
       "      <td>3804.0</td>\n",
       "      <td>7098.0</td>\n",
       "      <td>34.0</td>\n",
       "      <td>188.0</td>\n",
       "      <td>4618.0</td>\n",
       "      <td>43.0</td>\n",
       "      <td>74.0</td>\n",
       "      <td>21441.0</td>\n",
       "      <td>19905.0</td>\n",
       "      <td>35.72</td>\n",
       "      <td>53.63</td>\n",
       "    </tr>\n",
       "    <tr>\n",
       "      <th>...</th>\n",
       "      <td>...</td>\n",
       "      <td>...</td>\n",
       "      <td>...</td>\n",
       "      <td>...</td>\n",
       "      <td>...</td>\n",
       "      <td>...</td>\n",
       "      <td>...</td>\n",
       "      <td>...</td>\n",
       "      <td>...</td>\n",
       "      <td>...</td>\n",
       "      <td>...</td>\n",
       "      <td>...</td>\n",
       "      <td>...</td>\n",
       "      <td>...</td>\n",
       "    </tr>\n",
       "    <tr>\n",
       "      <th>35013</th>\n",
       "      <td>2018-12-31 18:00:00+00:00</td>\n",
       "      <td>297.0</td>\n",
       "      <td>10440.0</td>\n",
       "      <td>5972.0</td>\n",
       "      <td>6073.0</td>\n",
       "      <td>85.0</td>\n",
       "      <td>277.0</td>\n",
       "      <td>3113.0</td>\n",
       "      <td>63.0</td>\n",
       "      <td>95.0</td>\n",
       "      <td>30619.0</td>\n",
       "      <td>30653.0</td>\n",
       "      <td>68.85</td>\n",
       "      <td>77.02</td>\n",
       "    </tr>\n",
       "    <tr>\n",
       "      <th>35014</th>\n",
       "      <td>2018-12-31 19:00:00+00:00</td>\n",
       "      <td>296.0</td>\n",
       "      <td>9981.0</td>\n",
       "      <td>5104.0</td>\n",
       "      <td>6074.0</td>\n",
       "      <td>33.0</td>\n",
       "      <td>280.0</td>\n",
       "      <td>3288.0</td>\n",
       "      <td>62.0</td>\n",
       "      <td>95.0</td>\n",
       "      <td>29932.0</td>\n",
       "      <td>29735.0</td>\n",
       "      <td>68.40</td>\n",
       "      <td>76.16</td>\n",
       "    </tr>\n",
       "    <tr>\n",
       "      <th>35015</th>\n",
       "      <td>2018-12-31 20:00:00+00:00</td>\n",
       "      <td>292.0</td>\n",
       "      <td>9615.0</td>\n",
       "      <td>4029.0</td>\n",
       "      <td>6076.0</td>\n",
       "      <td>31.0</td>\n",
       "      <td>286.0</td>\n",
       "      <td>3503.0</td>\n",
       "      <td>61.0</td>\n",
       "      <td>94.0</td>\n",
       "      <td>27903.0</td>\n",
       "      <td>28071.0</td>\n",
       "      <td>66.88</td>\n",
       "      <td>74.30</td>\n",
       "    </tr>\n",
       "    <tr>\n",
       "      <th>35016</th>\n",
       "      <td>2018-12-31 21:00:00+00:00</td>\n",
       "      <td>293.0</td>\n",
       "      <td>9018.0</td>\n",
       "      <td>3304.0</td>\n",
       "      <td>6075.0</td>\n",
       "      <td>31.0</td>\n",
       "      <td>287.0</td>\n",
       "      <td>3586.0</td>\n",
       "      <td>61.0</td>\n",
       "      <td>93.0</td>\n",
       "      <td>25450.0</td>\n",
       "      <td>25801.0</td>\n",
       "      <td>63.93</td>\n",
       "      <td>69.89</td>\n",
       "    </tr>\n",
       "    <tr>\n",
       "      <th>35017</th>\n",
       "      <td>2018-12-31 22:00:00+00:00</td>\n",
       "      <td>290.0</td>\n",
       "      <td>9255.0</td>\n",
       "      <td>2863.0</td>\n",
       "      <td>6075.0</td>\n",
       "      <td>31.0</td>\n",
       "      <td>287.0</td>\n",
       "      <td>3651.0</td>\n",
       "      <td>61.0</td>\n",
       "      <td>92.0</td>\n",
       "      <td>24424.0</td>\n",
       "      <td>24455.0</td>\n",
       "      <td>64.27</td>\n",
       "      <td>69.88</td>\n",
       "    </tr>\n",
       "  </tbody>\n",
       "</table>\n",
       "<p>11616 rows × 14 columns</p>\n",
       "</div>"
      ],
      "text/plain": [
       "                           time  generation biomass  generation fossil  \\\n",
       "1     2015-01-01 00:00:00+00:00               449.0            10437.0   \n",
       "2     2015-01-01 01:00:00+00:00               448.0             9918.0   \n",
       "3     2015-01-01 02:00:00+00:00               438.0             8859.0   \n",
       "4     2015-01-01 03:00:00+00:00               428.0             8313.0   \n",
       "5     2015-01-01 04:00:00+00:00               410.0             7962.0   \n",
       "...                         ...                 ...                ...   \n",
       "35013 2018-12-31 18:00:00+00:00               297.0            10440.0   \n",
       "35014 2018-12-31 19:00:00+00:00               296.0             9981.0   \n",
       "35015 2018-12-31 20:00:00+00:00               292.0             9615.0   \n",
       "35016 2018-12-31 21:00:00+00:00               293.0             9018.0   \n",
       "35017 2018-12-31 22:00:00+00:00               290.0             9255.0   \n",
       "\n",
       "       generation hydro  generation nuclear  generation solar  \\\n",
       "1                3587.0              7096.0              50.0   \n",
       "2                3508.0              7099.0              50.0   \n",
       "3                3231.0              7098.0              50.0   \n",
       "4                3499.0              7097.0              42.0   \n",
       "5                3804.0              7098.0              34.0   \n",
       "...                 ...                 ...               ...   \n",
       "35013            5972.0              6073.0              85.0   \n",
       "35014            5104.0              6074.0              33.0   \n",
       "35015            4029.0              6076.0              31.0   \n",
       "35016            3304.0              6075.0              31.0   \n",
       "35017            2863.0              6075.0              31.0   \n",
       "\n",
       "       generation waste  generation wind onshore  generation other  \\\n",
       "1                 195.0                   5890.0              43.0   \n",
       "2                 196.0                   5461.0              43.0   \n",
       "3                 191.0                   5238.0              43.0   \n",
       "4                 189.0                   4935.0              43.0   \n",
       "5                 188.0                   4618.0              43.0   \n",
       "...                 ...                      ...               ...   \n",
       "35013             277.0                   3113.0              63.0   \n",
       "35014             280.0                   3288.0              62.0   \n",
       "35015             286.0                   3503.0              61.0   \n",
       "35016             287.0                   3586.0              61.0   \n",
       "35017             287.0                   3651.0              61.0   \n",
       "\n",
       "       generation other renewable  total load forecast  total load actual  \\\n",
       "1                            71.0              24934.0            24382.0   \n",
       "2                            73.0              23515.0            22734.0   \n",
       "3                            75.0              22642.0            21286.0   \n",
       "4                            74.0              21785.0            20264.0   \n",
       "5                            74.0              21441.0            19905.0   \n",
       "...                           ...                  ...                ...   \n",
       "35013                        95.0              30619.0            30653.0   \n",
       "35014                        95.0              29932.0            29735.0   \n",
       "35015                        94.0              27903.0            28071.0   \n",
       "35016                        93.0              25450.0            25801.0   \n",
       "35017                        92.0              24424.0            24455.0   \n",
       "\n",
       "       price day ahead  price actual  \n",
       "1                48.10         64.92  \n",
       "2                47.33         64.48  \n",
       "3                42.27         59.32  \n",
       "4                38.41         56.04  \n",
       "5                35.72         53.63  \n",
       "...                ...           ...  \n",
       "35013            68.85         77.02  \n",
       "35014            68.40         76.16  \n",
       "35015            66.88         74.30  \n",
       "35016            63.93         69.89  \n",
       "35017            64.27         69.88  \n",
       "\n",
       "[11616 rows x 14 columns]"
      ]
     },
     "execution_count": 96,
     "metadata": {},
     "output_type": "execute_result"
    }
   ],
   "source": [
    "\n",
    "energy['year'] = energy['time'].dt.year\n",
    "energy['month'] = energy['time'].dt.month\n",
    "\n",
    "winter_months = [12, 1, 2, 3]\n",
    "\n",
    "winter_energy = energy[(energy['year'].isin([2015, 2016, 2017, 2018])) & (energy['month'].isin(winter_months))]\n",
    "\n",
    "winter_energy = winter_energy.drop(['year', 'month'], axis=1)\n",
    "winter_energy"
   ]
  },
  {
   "cell_type": "markdown",
   "id": "78f2f827-d712-4919-aa2b-2e2f6d985737",
   "metadata": {},
   "source": [
    "### winter model"
   ]
  },
  {
   "cell_type": "code",
   "execution_count": 106,
   "id": "ab58ca3e-9fbd-4b17-8ec6-d4c4cff863f9",
   "metadata": {
    "tags": []
   },
   "outputs": [
    {
     "name": "stdout",
     "output_type": "stream",
     "text": [
      "R-squared: 0.8422589803754794\n",
      "Adjusted R-squared: 0.8421638574311848\n",
      "Mean Absolute Error: 4.4046921884172345\n",
      "Mean Squared Error: 47.537397815553575\n",
      "Root Mean Squared Error: 6.894736964928653\n"
     ]
    }
   ],
   "source": [
    "import xgboost as xgb\n",
    "from sklearn.model_selection import train_test_split\n",
    "from sklearn.metrics import r2_score, mean_absolute_error, mean_squared_error\n",
    "\n",
    "X = winter_energy[[\"price day ahead\", \"generation fossil\", \"total load forecast\", \n",
    "                   \"generation nuclear\", \"generation other renewable\", \"generation waste\", \n",
    "                   \"generation biomass\"]]\n",
    "y = winter_energy[\"price actual\"]\n",
    "\n",
    "X_train, X_test, y_train, y_test = train_test_split(X, y, test_size=0.2, random_state=42)\n",
    "\n",
    "xgb_model = xgb.XGBRegressor(random_state=42)\n",
    "xgb_model.fit(X_train, y_train)\n",
    "\n",
    "y_pred = xgb_model.predict(X_test)\n",
    "\n",
    "r_squared = xgb_model.score(X_test, y_test)\n",
    "mae = mean_absolute_error(y_test, y_pred)\n",
    "mse = mean_squared_error(y_test, y_pred)\n",
    "rmse = mean_squared_error(y_test, y_pred, squared=False)\n",
    "\n",
    "n = len(y)\n",
    "k = X.shape[1]\n",
    "adjusted_r_squared = 1 - (1 - r_squared) * (n - 1) / (n - k - 1)\n",
    "\n",
    "print(\"R-squared:\", r_squared)\n",
    "print(\"Adjusted R-squared:\", adjusted_r_squared)\n",
    "print(\"Mean Absolute Error:\", mae)\n",
    "print(\"Mean Squared Error:\", mse)\n",
    "print(\"Root Mean Squared Error:\", rmse)\n"
   ]
  },
  {
   "cell_type": "markdown",
   "id": "94fe3646-f145-4015-ad80-9849b29acc05",
   "metadata": {},
   "source": [
    "### price prediction using summer predictor means"
   ]
  },
  {
   "cell_type": "code",
   "execution_count": 86,
   "id": "af27a6e9-f3e9-4be1-b074-f0a8af8d4e87",
   "metadata": {
    "tags": []
   },
   "outputs": [
    {
     "name": "stdout",
     "output_type": "stream",
     "text": [
      "Predicted price: [102.60108]\n"
     ]
    }
   ],
   "source": [
    "import numpy as np\n",
    "\n",
    "new_data_point = np.array([[5145, 11210, 28960, 6372, 85, 282, 394]])\n",
    "\n",
    "predicted_price = xgb_model.predict(new_data_point)\n",
    "\n",
    "print(\"Predicted price:\", predicted_price)\n"
   ]
  },
  {
   "cell_type": "markdown",
   "id": "94293a3b-ac06-46c6-a15c-1eeff7b9f270",
   "metadata": {},
   "source": [
    "### price prediction using winter predictor means"
   ]
  },
  {
   "cell_type": "code",
   "execution_count": 87,
   "id": "4a330eed-2865-40ee-a192-5f9c74528ce8",
   "metadata": {
    "tags": []
   },
   "outputs": [
    {
     "name": "stdout",
     "output_type": "stream",
     "text": [
      "Predicted price: [100.19817]\n"
     ]
    }
   ],
   "source": [
    "new_data_point = np.array([[4847, 10085, 29160, 6512, 85, 262, 389]])\n",
    "\n",
    "predicted_price = xgb_model.predict(new_data_point)\n",
    "\n",
    "print(\"Predicted price:\", predicted_price)\n"
   ]
  },
  {
   "cell_type": "markdown",
   "id": "73f7a47e-4c0a-4938-bb52-fec90f37ccee",
   "metadata": {},
   "source": [
    "### first line of winter dataset (actual 64.92)"
   ]
  },
  {
   "cell_type": "code",
   "execution_count": 88,
   "id": "0edf0598-b23c-494a-b51b-99b095a1d4cc",
   "metadata": {
    "tags": []
   },
   "outputs": [
    {
     "name": "stdout",
     "output_type": "stream",
     "text": [
      "Predicted price: [59.25211]\n"
     ]
    }
   ],
   "source": [
    "new_data_point = np.array([[48.10, 10437, 24934, 7096, 71, 195, 449]])\n",
    "\n",
    "predicted_price = xgb_model.predict(new_data_point)\n",
    "\n",
    "print(\"Predicted price:\", predicted_price)"
   ]
  },
  {
   "cell_type": "markdown",
   "id": "97ce1dba-b50e-4b4e-9735-2011c86ba874",
   "metadata": {},
   "source": [
    "### first line of summer dataset (actual 54.54)"
   ]
  },
  {
   "cell_type": "code",
   "execution_count": 89,
   "id": "a1c44cde-3993-4010-98f4-230226f548c7",
   "metadata": {
    "tags": []
   },
   "outputs": [
    {
     "name": "stdout",
     "output_type": "stream",
     "text": [
      "Predicted price: [43.943672]\n"
     ]
    }
   ],
   "source": [
    "new_data_point = np.array([[46, 11151, 21585, 7098, 72, 244, 495]])\n",
    "\n",
    "predicted_price = xgb_model.predict(new_data_point)\n",
    "\n",
    "print(\"Predicted price:\", predicted_price)"
   ]
  },
  {
   "cell_type": "code",
   "execution_count": null,
   "id": "86430f76-270c-47b8-a8d4-93de06a53c5e",
   "metadata": {},
   "outputs": [],
   "source": []
  },
  {
   "cell_type": "code",
   "execution_count": 117,
   "id": "56fa5090-8632-4b2b-9b8e-349e11250d2f",
   "metadata": {
    "tags": []
   },
   "outputs": [
    {
     "name": "stdout",
     "output_type": "stream",
     "text": [
      "Predicted price: [43.943672 40.15126  35.897648 67.82314  63.22714  57.629898]\n"
     ]
    }
   ],
   "source": [
    "#summer values\n",
    "new_data_point = np.array([[46, 11151, 21585, 7098, 72, 244, 495], \n",
    "                           [43.84, 10300, 20453, 7099, 73, 248, 495], \n",
    "                           [40.13, 9901, 19751, 7099, 71, 248, 491], \n",
    "                           [61.19, 8100, 25432, 7002, 94, 317, 347], \n",
    "                           [61.58, 11363, 28908, 6081, 90, 320, 265], \n",
    "                           [51, 10812, 26777, 6080, 90, 319, 262]])\n",
    "\n",
    "predicted_price = xgb_model.predict(new_data_point)\n",
    "\n",
    "print(\"Predicted price:\", predicted_price)"
   ]
  },
  {
   "cell_type": "code",
   "execution_count": null,
   "id": "f4dd0412-c35a-4d61-bcd5-634ac07882ec",
   "metadata": {},
   "outputs": [],
   "source": []
  },
  {
   "cell_type": "code",
   "execution_count": 118,
   "id": "2368c123-d7fc-434d-a905-b8f8392f3cd7",
   "metadata": {
    "tags": []
   },
   "outputs": [
    {
     "name": "stdout",
     "output_type": "stream",
     "text": [
      "Predicted price: [59.25211  56.728714 55.25217  75.18591  72.88397  70.799545]\n"
     ]
    }
   ],
   "source": [
    "\n",
    "#winter values\n",
    "new_data_point = np.array([[48.1, 10437, 24934, 7096, 71, 195, 449], \n",
    "[47.33, 9918, 23515, 7099, 73, 196, 448], \n",
    "[42.27, 8859, 22642, 7098, 75, 191, 438], \n",
    "[66.88, 9615, 27903, 6076, 94, 286, 292], \n",
    "[63.93, 9018, 25450, 6075, 93, 287, 293], \n",
    "[64.27, 9255, 24424, 6075, 92, 287, 290]])\n",
    "\n",
    "predicted_price = xgb_model.predict(new_data_point)\n",
    "\n",
    "print(\"Predicted price:\", predicted_price)"
   ]
  },
  {
   "cell_type": "code",
   "execution_count": 123,
   "id": "6451baa7-7c1c-4590-af83-c0e852131caa",
   "metadata": {
    "tags": []
   },
   "outputs": [
    {
     "data": {
      "image/png": "[encoded data removed]",
      "text/plain": [
       "<Figure size 1000x600 with 1 Axes>"
      ]
     },
     "metadata": {},
     "output_type": "display_data"
    }
   ],
   "source": [
    "import matplotlib.pyplot as plt\n",
    "\n",
    "# Aggregate total energy generation for each energy source\n",
    "energy_generation_totals = winter_energy[[\"generation biomass\", \"generation fossil\", \"generation hydro\", \n",
    "                                         \"generation nuclear\", \"generation solar\", \"generation waste\", \n",
    "                                         \"generation wind onshore\", \"generation other\", \"generation other renewable\"]].sum()\n",
    "\n",
    "# Sort the energy generation totals in descending order\n",
    "energy_generation_totals = energy_generation_totals.sort_values(ascending=False)\n",
    "\n",
    "# Plot the energy generation totals\n",
    "plt.figure(figsize=(10, 6))\n",
    "energy_generation_totals.plot(kind='bar', color='skyblue')\n",
    "plt.title('Total Energy Generation by Source (Winter)')\n",
    "plt.xlabel('Energy Source')\n",
    "plt.ylabel('Total Energy Generation')\n",
    "plt.xticks(rotation=45)  # Rotate x-axis labels for better readability\n",
    "plt.tight_layout()  # Adjust layout to prevent labels from getting cut off\n",
    "plt.show()\n"
   ]
  },
  {
   "cell_type": "markdown",
   "id": "09e650f6-3887-4f9c-aa3f-2473be2a9df0",
   "metadata": {},
   "source": [
    "## summer dataset"
   ]
  },
  {
   "cell_type": "code",
   "execution_count": 97,
   "id": "9e187979-57ed-493c-9088-dad5b89b5aa0",
   "metadata": {
    "tags": []
   },
   "outputs": [
    {
     "data": {
      "text/html": [
       "<div>\n",
       "<style scoped>\n",
       "    .dataframe tbody tr th:only-of-type {\n",
       "        vertical-align: middle;\n",
       "    }\n",
       "\n",
       "    .dataframe tbody tr th {\n",
       "        vertical-align: top;\n",
       "    }\n",
       "\n",
       "    .dataframe thead th {\n",
       "        text-align: right;\n",
       "    }\n",
       "</style>\n",
       "<table border=\"1\" class=\"dataframe\">\n",
       "  <thead>\n",
       "    <tr style=\"text-align: right;\">\n",
       "      <th></th>\n",
       "      <th>time</th>\n",
       "      <th>generation biomass</th>\n",
       "      <th>generation fossil</th>\n",
       "      <th>generation hydro</th>\n",
       "      <th>generation nuclear</th>\n",
       "      <th>generation solar</th>\n",
       "      <th>generation waste</th>\n",
       "      <th>generation wind onshore</th>\n",
       "      <th>generation other</th>\n",
       "      <th>generation other renewable</th>\n",
       "      <th>total load forecast</th>\n",
       "      <th>total load actual</th>\n",
       "      <th>price day ahead</th>\n",
       "      <th>price actual</th>\n",
       "    </tr>\n",
       "  </thead>\n",
       "  <tbody>\n",
       "    <tr>\n",
       "      <th>3597</th>\n",
       "      <td>2015-06-01 00:00:00+00:00</td>\n",
       "      <td>495.0</td>\n",
       "      <td>11151.0</td>\n",
       "      <td>2877.0</td>\n",
       "      <td>7098.0</td>\n",
       "      <td>31.0</td>\n",
       "      <td>244.0</td>\n",
       "      <td>2815.0</td>\n",
       "      <td>43.0</td>\n",
       "      <td>72.0</td>\n",
       "      <td>21585.0</td>\n",
       "      <td>22118.0</td>\n",
       "      <td>46.00</td>\n",
       "      <td>54.54</td>\n",
       "    </tr>\n",
       "    <tr>\n",
       "      <th>3598</th>\n",
       "      <td>2015-06-01 01:00:00+00:00</td>\n",
       "      <td>495.0</td>\n",
       "      <td>10300.0</td>\n",
       "      <td>3010.0</td>\n",
       "      <td>7099.0</td>\n",
       "      <td>31.0</td>\n",
       "      <td>248.0</td>\n",
       "      <td>3008.0</td>\n",
       "      <td>43.0</td>\n",
       "      <td>73.0</td>\n",
       "      <td>20453.0</td>\n",
       "      <td>21015.0</td>\n",
       "      <td>43.84</td>\n",
       "      <td>53.87</td>\n",
       "    </tr>\n",
       "    <tr>\n",
       "      <th>3599</th>\n",
       "      <td>2015-06-01 02:00:00+00:00</td>\n",
       "      <td>491.0</td>\n",
       "      <td>9901.0</td>\n",
       "      <td>3675.0</td>\n",
       "      <td>7099.0</td>\n",
       "      <td>31.0</td>\n",
       "      <td>248.0</td>\n",
       "      <td>3205.0</td>\n",
       "      <td>43.0</td>\n",
       "      <td>71.0</td>\n",
       "      <td>19751.0</td>\n",
       "      <td>20518.0</td>\n",
       "      <td>40.13</td>\n",
       "      <td>54.20</td>\n",
       "    </tr>\n",
       "    <tr>\n",
       "      <th>3600</th>\n",
       "      <td>2015-06-01 03:00:00+00:00</td>\n",
       "      <td>493.0</td>\n",
       "      <td>9764.0</td>\n",
       "      <td>3773.0</td>\n",
       "      <td>7097.0</td>\n",
       "      <td>31.0</td>\n",
       "      <td>246.0</td>\n",
       "      <td>3287.0</td>\n",
       "      <td>43.0</td>\n",
       "      <td>69.0</td>\n",
       "      <td>19559.0</td>\n",
       "      <td>20478.0</td>\n",
       "      <td>40.00</td>\n",
       "      <td>55.87</td>\n",
       "    </tr>\n",
       "    <tr>\n",
       "      <th>3601</th>\n",
       "      <td>2015-06-01 04:00:00+00:00</td>\n",
       "      <td>488.0</td>\n",
       "      <td>10188.0</td>\n",
       "      <td>3777.0</td>\n",
       "      <td>7096.0</td>\n",
       "      <td>31.0</td>\n",
       "      <td>246.0</td>\n",
       "      <td>3382.0</td>\n",
       "      <td>43.0</td>\n",
       "      <td>71.0</td>\n",
       "      <td>20002.0</td>\n",
       "      <td>20926.0</td>\n",
       "      <td>43.32</td>\n",
       "      <td>61.28</td>\n",
       "    </tr>\n",
       "    <tr>\n",
       "      <th>...</th>\n",
       "      <td>...</td>\n",
       "      <td>...</td>\n",
       "      <td>...</td>\n",
       "      <td>...</td>\n",
       "      <td>...</td>\n",
       "      <td>...</td>\n",
       "      <td>...</td>\n",
       "      <td>...</td>\n",
       "      <td>...</td>\n",
       "      <td>...</td>\n",
       "      <td>...</td>\n",
       "      <td>...</td>\n",
       "      <td>...</td>\n",
       "      <td>...</td>\n",
       "    </tr>\n",
       "    <tr>\n",
       "      <th>32806</th>\n",
       "      <td>2018-09-30 19:00:00+00:00</td>\n",
       "      <td>355.0</td>\n",
       "      <td>9139.0</td>\n",
       "      <td>1917.0</td>\n",
       "      <td>7000.0</td>\n",
       "      <td>366.0</td>\n",
       "      <td>318.0</td>\n",
       "      <td>6520.0</td>\n",
       "      <td>60.0</td>\n",
       "      <td>97.0</td>\n",
       "      <td>28478.0</td>\n",
       "      <td>28267.0</td>\n",
       "      <td>74.27</td>\n",
       "      <td>80.15</td>\n",
       "    </tr>\n",
       "    <tr>\n",
       "      <th>32807</th>\n",
       "      <td>2018-09-30 20:00:00+00:00</td>\n",
       "      <td>354.0</td>\n",
       "      <td>8491.0</td>\n",
       "      <td>1501.0</td>\n",
       "      <td>7002.0</td>\n",
       "      <td>238.0</td>\n",
       "      <td>319.0</td>\n",
       "      <td>7155.0</td>\n",
       "      <td>60.0</td>\n",
       "      <td>95.0</td>\n",
       "      <td>27191.0</td>\n",
       "      <td>26944.0</td>\n",
       "      <td>69.50</td>\n",
       "      <td>75.59</td>\n",
       "    </tr>\n",
       "    <tr>\n",
       "      <th>32808</th>\n",
       "      <td>2018-09-30 21:00:00+00:00</td>\n",
       "      <td>347.0</td>\n",
       "      <td>8100.0</td>\n",
       "      <td>1509.0</td>\n",
       "      <td>7002.0</td>\n",
       "      <td>146.0</td>\n",
       "      <td>317.0</td>\n",
       "      <td>7223.0</td>\n",
       "      <td>59.0</td>\n",
       "      <td>94.0</td>\n",
       "      <td>25432.0</td>\n",
       "      <td>25178.0</td>\n",
       "      <td>61.19</td>\n",
       "      <td>66.90</td>\n",
       "    </tr>\n",
       "    <tr>\n",
       "      <th>32809</th>\n",
       "      <td>2018-09-30 22:00:00+00:00</td>\n",
       "      <td>265.0</td>\n",
       "      <td>11363.0</td>\n",
       "      <td>3395.0</td>\n",
       "      <td>6081.0</td>\n",
       "      <td>16.0</td>\n",
       "      <td>320.0</td>\n",
       "      <td>6757.0</td>\n",
       "      <td>48.0</td>\n",
       "      <td>90.0</td>\n",
       "      <td>28908.0</td>\n",
       "      <td>29001.0</td>\n",
       "      <td>61.58</td>\n",
       "      <td>64.64</td>\n",
       "    </tr>\n",
       "    <tr>\n",
       "      <th>32810</th>\n",
       "      <td>2018-09-30 23:00:00+00:00</td>\n",
       "      <td>262.0</td>\n",
       "      <td>10812.0</td>\n",
       "      <td>3215.0</td>\n",
       "      <td>6080.0</td>\n",
       "      <td>17.0</td>\n",
       "      <td>319.0</td>\n",
       "      <td>6044.0</td>\n",
       "      <td>48.0</td>\n",
       "      <td>90.0</td>\n",
       "      <td>26777.0</td>\n",
       "      <td>26734.0</td>\n",
       "      <td>51.00</td>\n",
       "      <td>61.11</td>\n",
       "    </tr>\n",
       "  </tbody>\n",
       "</table>\n",
       "<p>11705 rows × 14 columns</p>\n",
       "</div>"
      ],
      "text/plain": [
       "                           time  generation biomass  generation fossil  \\\n",
       "3597  2015-06-01 00:00:00+00:00               495.0            11151.0   \n",
       "3598  2015-06-01 01:00:00+00:00               495.0            10300.0   \n",
       "3599  2015-06-01 02:00:00+00:00               491.0             9901.0   \n",
       "3600  2015-06-01 03:00:00+00:00               493.0             9764.0   \n",
       "3601  2015-06-01 04:00:00+00:00               488.0            10188.0   \n",
       "...                         ...                 ...                ...   \n",
       "32806 2018-09-30 19:00:00+00:00               355.0             9139.0   \n",
       "32807 2018-09-30 20:00:00+00:00               354.0             8491.0   \n",
       "32808 2018-09-30 21:00:00+00:00               347.0             8100.0   \n",
       "32809 2018-09-30 22:00:00+00:00               265.0            11363.0   \n",
       "32810 2018-09-30 23:00:00+00:00               262.0            10812.0   \n",
       "\n",
       "       generation hydro  generation nuclear  generation solar  \\\n",
       "3597             2877.0              7098.0              31.0   \n",
       "3598             3010.0              7099.0              31.0   \n",
       "3599             3675.0              7099.0              31.0   \n",
       "3600             3773.0              7097.0              31.0   \n",
       "3601             3777.0              7096.0              31.0   \n",
       "...                 ...                 ...               ...   \n",
       "32806            1917.0              7000.0             366.0   \n",
       "32807            1501.0              7002.0             238.0   \n",
       "32808            1509.0              7002.0             146.0   \n",
       "32809            3395.0              6081.0              16.0   \n",
       "32810            3215.0              6080.0              17.0   \n",
       "\n",
       "       generation waste  generation wind onshore  generation other  \\\n",
       "3597              244.0                   2815.0              43.0   \n",
       "3598              248.0                   3008.0              43.0   \n",
       "3599              248.0                   3205.0              43.0   \n",
       "3600              246.0                   3287.0              43.0   \n",
       "3601              246.0                   3382.0              43.0   \n",
       "...                 ...                      ...               ...   \n",
       "32806             318.0                   6520.0              60.0   \n",
       "32807             319.0                   7155.0              60.0   \n",
       "32808             317.0                   7223.0              59.0   \n",
       "32809             320.0                   6757.0              48.0   \n",
       "32810             319.0                   6044.0              48.0   \n",
       "\n",
       "       generation other renewable  total load forecast  total load actual  \\\n",
       "3597                         72.0              21585.0            22118.0   \n",
       "3598                         73.0              20453.0            21015.0   \n",
       "3599                         71.0              19751.0            20518.0   \n",
       "3600                         69.0              19559.0            20478.0   \n",
       "3601                         71.0              20002.0            20926.0   \n",
       "...                           ...                  ...                ...   \n",
       "32806                        97.0              28478.0            28267.0   \n",
       "32807                        95.0              27191.0            26944.0   \n",
       "32808                        94.0              25432.0            25178.0   \n",
       "32809                        90.0              28908.0            29001.0   \n",
       "32810                        90.0              26777.0            26734.0   \n",
       "\n",
       "       price day ahead  price actual  \n",
       "3597             46.00         54.54  \n",
       "3598             43.84         53.87  \n",
       "3599             40.13         54.20  \n",
       "3600             40.00         55.87  \n",
       "3601             43.32         61.28  \n",
       "...                ...           ...  \n",
       "32806            74.27         80.15  \n",
       "32807            69.50         75.59  \n",
       "32808            61.19         66.90  \n",
       "32809            61.58         64.64  \n",
       "32810            51.00         61.11  \n",
       "\n",
       "[11705 rows x 14 columns]"
      ]
     },
     "execution_count": 97,
     "metadata": {},
     "output_type": "execute_result"
    }
   ],
   "source": [
    "\n",
    "energy['year'] = energy['time'].dt.year\n",
    "energy['month'] = energy['time'].dt.month\n",
    "\n",
    "summer_months = [6, 7, 8, 9]\n",
    "\n",
    "summer_energy = energy[(energy['year'].isin([2015, 2016, 2017, 2018])) & (energy['month'].isin(summer_months))]\n",
    "\n",
    "summer_energy = summer_energy.drop(['year', 'month'], axis=1)\n",
    "summer_energy"
   ]
  },
  {
   "cell_type": "markdown",
   "id": "6ea630ce-a224-418f-bba5-d5e3749dcf5f",
   "metadata": {},
   "source": [
    "### summer model"
   ]
  },
  {
   "cell_type": "code",
   "execution_count": 120,
   "id": "6e1dd775-7c1b-472f-95d2-cd650f4de492",
   "metadata": {
    "tags": []
   },
   "outputs": [
    {
     "name": "stdout",
     "output_type": "stream",
     "text": [
      "R-squared: 0.9131939529493077\n",
      "Adjusted R-squared: 0.9131420043873384\n",
      "Mean Absolute Error: 2.229311546055184\n",
      "Mean Squared Error: 11.081109453576536\n",
      "Root Mean Squared Error: 3.3288300427592477\n"
     ]
    }
   ],
   "source": [
    "import xgboost as xgb\n",
    "from sklearn.model_selection import train_test_split\n",
    "from sklearn.metrics import r2_score, mean_absolute_error, mean_squared_error\n",
    "\n",
    "X = summer_energy[[\"price day ahead\", \"generation fossil\", \"total load forecast\", \n",
    "                   \"generation nuclear\", \"generation other renewable\", \"generation waste\", \n",
    "                   \"generation biomass\"]]\n",
    "y = summer_energy[\"price actual\"]\n",
    "\n",
    "X_train, X_test, y_train, y_test = train_test_split(X, y, test_size=0.2, random_state=42)\n",
    "\n",
    "xgb_model = xgb.XGBRegressor(random_state=42)\n",
    "xgb_model.fit(X_train, y_train)\n",
    "\n",
    "y_pred = xgb_model.predict(X_test)\n",
    "\n",
    "r_squared = xgb_model.score(X_test, y_test)\n",
    "mae = mean_absolute_error(y_test, y_pred)\n",
    "mse = mean_squared_error(y_test, y_pred)\n",
    "rmse = mean_squared_error(y_test, y_pred, squared=False)\n",
    "\n",
    "n = len(y)\n",
    "k = X.shape[1]\n",
    "adjusted_r_squared = 1 - (1 - r_squared) * (n - 1) / (n - k - 1)\n",
    "\n",
    "print(\"R-squared:\", r_squared)\n",
    "print(\"Adjusted R-squared:\", adjusted_r_squared)\n",
    "print(\"Mean Absolute Error:\", mae)\n",
    "print(\"Mean Squared Error:\", mse)\n",
    "print(\"Root Mean Squared Error:\", rmse)\n"
   ]
  },
  {
   "cell_type": "markdown",
   "id": "c9e2ef60-4b20-442f-a4ce-8eb946b90431",
   "metadata": {},
   "source": [
    "### price prediction using winter predictor means"
   ]
  },
  {
   "cell_type": "code",
   "execution_count": 92,
   "id": "0c450a3d-4c87-4de9-9678-731c0465b0a4",
   "metadata": {
    "tags": []
   },
   "outputs": [
    {
     "name": "stdout",
     "output_type": "stream",
     "text": [
      "Predicted price: [67.09307]\n"
     ]
    }
   ],
   "source": [
    "new_data_point = np.array([[4847, 10085, 29160, 6512, 85, 262, 389]])\n",
    "\n",
    "predicted_price = xgb_model.predict(new_data_point)\n",
    "\n",
    "print(\"Predicted price:\", predicted_price)\n"
   ]
  },
  {
   "cell_type": "markdown",
   "id": "e351b6bc-6522-47cd-980d-8d1ff560a493",
   "metadata": {},
   "source": [
    "### price prediction using summer predictor means"
   ]
  },
  {
   "cell_type": "code",
   "execution_count": 93,
   "id": "30f9b4cc-4057-407b-b369-37177ad6b93e",
   "metadata": {
    "tags": []
   },
   "outputs": [
    {
     "name": "stdout",
     "output_type": "stream",
     "text": [
      "Predicted price: [65.99147]\n"
     ]
    }
   ],
   "source": [
    "new_data_point = np.array([[5145, 11210, 28960, 6372, 85, 282, 394]])\n",
    "\n",
    "predicted_price = xgb_model.predict(new_data_point)\n",
    "\n",
    "print(\"Predicted price:\", predicted_price)"
   ]
  },
  {
   "cell_type": "markdown",
   "id": "5c11435e-3273-4e77-9740-45597b8c8e4a",
   "metadata": {
    "tags": []
   },
   "source": [
    "### first line of summer dataset (actual 54.54)"
   ]
  },
  {
   "cell_type": "code",
   "execution_count": 94,
   "id": "31ad8994-5207-4c2e-858a-7b8ecf55f689",
   "metadata": {
    "tags": []
   },
   "outputs": [
    {
     "name": "stdout",
     "output_type": "stream",
     "text": [
      "Predicted price: [57.868423]\n"
     ]
    }
   ],
   "source": [
    "new_data_point = np.array([[46, 11151, 21585, 7098, 72, 244, 495]])\n",
    "\n",
    "predicted_price = xgb_model.predict(new_data_point)\n",
    "\n",
    "print(\"Predicted price:\", predicted_price)"
   ]
  },
  {
   "cell_type": "markdown",
   "id": "0f724c73-bcec-4dcf-96f0-562fdf51a1dc",
   "metadata": {},
   "source": [
    "### first line of winter dataset (actual 64.92)"
   ]
  },
  {
   "cell_type": "code",
   "execution_count": 95,
   "id": "18e28dde-6575-4dce-8efd-33669dbfb68e",
   "metadata": {
    "tags": []
   },
   "outputs": [
    {
     "name": "stdout",
     "output_type": "stream",
     "text": [
      "Predicted price: [61.945827]\n"
     ]
    }
   ],
   "source": [
    "new_data_point = np.array([[48.10, 10437, 24934, 7096, 71, 195, 449]])\n",
    "\n",
    "predicted_price = xgb_model.predict(new_data_point)\n",
    "\n",
    "print(\"Predicted price:\", predicted_price)"
   ]
  },
  {
   "cell_type": "code",
   "execution_count": null,
   "id": "60c0931b-0e42-47af-a46d-97547f1efbde",
   "metadata": {},
   "outputs": [],
   "source": []
  },
  {
   "cell_type": "code",
   "execution_count": 122,
   "id": "e03a0525-6720-43c6-bc30-b2976225f7f1",
   "metadata": {
    "tags": []
   },
   "outputs": [
    {
     "name": "stdout",
     "output_type": "stream",
     "text": [
      "Predicted price: [57.868423 54.502537 56.413185 66.58016  66.622795 59.34052 ]\n"
     ]
    }
   ],
   "source": [
    "#summer values\n",
    "new_data_point = np.array([[46, 11151, 21585, 7098, 72, 244, 495], \n",
    "                           [43.84, 10300, 20453, 7099, 73, 248, 495], \n",
    "                           [40.13, 9901, 19751, 7099, 71, 248, 491], \n",
    "                           [61.19, 8100, 25432, 7002, 94, 317, 347], \n",
    "                           [61.58, 11363, 28908, 6081, 90, 320, 265], \n",
    "                           [51, 10812, 26777, 6080, 90, 319, 262]])\n",
    "\n",
    "predicted_price = xgb_model.predict(new_data_point)\n",
    "\n",
    "print(\"Predicted price:\", predicted_price)"
   ]
  },
  {
   "cell_type": "code",
   "execution_count": 121,
   "id": "12a0552d-d0fa-4060-bd3b-ca0679cf2f25",
   "metadata": {
    "tags": []
   },
   "outputs": [
    {
     "name": "stdout",
     "output_type": "stream",
     "text": [
      "Predicted price: [61.945827 56.99205  54.078285 61.348625 52.114857 51.384274]\n"
     ]
    }
   ],
   "source": [
    "\n",
    "#winter values\n",
    "new_data_point = np.array([[48.1, 10437, 24934, 7096, 71, 195, 449], \n",
    "[47.33, 9918, 23515, 7099, 73, 196, 448], \n",
    "[42.27, 8859, 22642, 7098, 75, 191, 438], \n",
    "[66.88, 9615, 27903, 6076, 94, 286, 292], \n",
    "[63.93, 9018, 25450, 6075, 93, 287, 293], \n",
    "[64.27, 9255, 24424, 6075, 92, 287, 290]])\n",
    "\n",
    "predicted_price = xgb_model.predict(new_data_point)\n",
    "\n",
    "print(\"Predicted price:\", predicted_price)"
   ]
  },
  {
   "cell_type": "code",
   "execution_count": 116,
   "id": "03b7f4e7-fa31-43db-8fd4-5dbd0cb0b7ce",
   "metadata": {
    "tags": []
   },
   "outputs": [
    {
     "data": {
      "image/png": "[encoded data removed]",
      "text/plain": [
       "<Figure size 1000x600 with 1 Axes>"
      ]
     },
     "metadata": {},
     "output_type": "display_data"
    }
   ],
   "source": [
    "import matplotlib.pyplot as plt\n",
    "\n",
    "# Aggregate total energy generation for each energy source\n",
    "energy_generation_totals = summer_energy[[\"generation biomass\", \"generation fossil\", \"generation hydro\", \n",
    "                                         \"generation nuclear\", \"generation solar\", \"generation waste\", \n",
    "                                         \"generation wind onshore\", \"generation other\", \"generation other renewable\"]].sum()\n",
    "\n",
    "# Sort the energy generation totals in descending order\n",
    "energy_generation_totals = energy_generation_totals.sort_values(ascending=False)\n",
    "\n",
    "# Plot the energy generation totals\n",
    "plt.figure(figsize=(10, 6))\n",
    "energy_generation_totals.plot(kind='bar', color='orange')\n",
    "plt.title('Total Energy Generation by Source')\n",
    "plt.xlabel('Energy Source')\n",
    "plt.ylabel('Total Energy Generation')\n",
    "plt.xticks(rotation=45)  # Rotate x-axis labels for better readability\n",
    "plt.tight_layout()  # Adjust layout to prevent labels from getting cut off\n",
    "plt.show()\n"
   ]
  },
  {
   "cell_type": "code",
   "execution_count": 126,
   "id": "95c8530c-0f4c-43ed-93ea-9f25eb358edd",
   "metadata": {
    "tags": []
   },
   "outputs": [
    {
     "data": {
      "text/plain": [
       "<Figure size 1200x600 with 0 Axes>"
      ]
     },
     "metadata": {},
     "output_type": "display_data"
    },
    {
     "data": {
      "image/png": "[encoded data removed]",
      "text/plain": [
       "<Figure size 640x480 with 1 Axes>"
      ]
     },
     "metadata": {},
     "output_type": "display_data"
    }
   ],
   "source": [
    "import matplotlib.pyplot as plt\n",
    "import pandas as pd\n",
    "\n",
    "# Aggregate total energy generation for each energy source for winter\n",
    "energy_generation_totals_winter = winter_energy[[\"generation biomass\", \"generation fossil\", \"generation hydro\", \n",
    "                                                 \"generation nuclear\", \"generation solar\", \"generation waste\", \n",
    "                                                 \"generation wind onshore\", \"generation other\", \n",
    "                                                 \"generation other renewable\"]].sum()\n",
    "energy_generation_totals_winter = energy_generation_totals_winter.sort_values(ascending=False)\n",
    "\n",
    "# Aggregate total energy generation for each energy source for summer\n",
    "energy_generation_totals_summer = summer_energy[[\"generation biomass\", \"generation fossil\", \"generation hydro\", \n",
    "                                                 \"generation nuclear\", \"generation solar\", \"generation waste\", \n",
    "                                                 \"generation wind onshore\", \"generation other\", \n",
    "                                                 \"generation other renewable\"]].sum()\n",
    "energy_generation_totals_summer = energy_generation_totals_summer.sort_values(ascending=False)\n",
    "\n",
    "# Combine winter and summer energy generation totals into a single DataFrame\n",
    "combined_totals = pd.concat([energy_generation_totals_winter, energy_generation_totals_summer], axis=1)\n",
    "combined_totals.columns = ['Winter', 'Summer']\n",
    "\n",
    "# Plotting\n",
    "plt.figure(figsize=(12, 6))\n",
    "combined_totals.plot(kind='bar', color=['skyblue', 'orange'])\n",
    "plt.title('Total Energy Generation by Source')\n",
    "plt.xlabel('Energy Source')\n",
    "plt.ylabel('Total Energy Generation')\n",
    "plt.xticks(rotation=45)\n",
    "plt.tight_layout()\n",
    "plt.show()\n"
   ]
  },
  {
   "cell_type": "code",
   "execution_count": 146,
   "id": "29ae44df-5d7a-404f-9238-1d41dc0f7f60",
   "metadata": {
    "tags": []
   },
   "outputs": [
    {
     "data": {
      "text/plain": [
       "<Figure size 1000x600 with 0 Axes>"
      ]
     },
     "metadata": {},
     "output_type": "display_data"
    },
    {
     "data": {
      "image/png": "[encoded data removed]",
      "text/plain": [
       "<Figure size 640x480 with 1 Axes>"
      ]
     },
     "metadata": {},
     "output_type": "display_data"
    }
   ],
   "source": [
    "import pandas as pd\n",
    "import matplotlib.pyplot as plt\n",
    "\n",
    "# Assuming you have loaded your dataset into a DataFrame named winter_energy\n",
    "\n",
    "# Convert 'date' column to datetime type\n",
    "winter_energy['time'] = pd.to_datetime(winter_energy['time'])\n",
    "\n",
    "# Filter the dataset for each month (December, January, February, March)\n",
    "dec_data = winter_energy[(winter_energy['time'].dt.year == 2017) & (winter_energy['time'].dt.month == 12)]\n",
    "jan_data = winter_energy[(winter_energy['time'].dt.year == 2018) & (winter_energy['time'].dt.month == 1)]\n",
    "feb_data = winter_energy[(winter_energy['time'].dt.year == 2018) & (winter_energy['time'].dt.month == 2)]\n",
    "mar_data = winter_energy[(winter_energy['time'].dt.year == 2018) & (winter_energy['time'].dt.month == 3)]\n",
    "\n",
    "# Calculate the average \"price day ahead\" and \"price actual\" for each month\n",
    "dec_avg_price_day_ahead = dec_data['price day ahead'].mean()\n",
    "dec_avg_price_actual = dec_data['price actual'].mean()\n",
    "\n",
    "jan_avg_price_day_ahead = jan_data['price day ahead'].mean()\n",
    "jan_avg_price_actual = jan_data['price actual'].mean()\n",
    "\n",
    "feb_avg_price_day_ahead = feb_data['price day ahead'].mean()\n",
    "feb_avg_price_actual = feb_data['price actual'].mean()\n",
    "\n",
    "mar_avg_price_day_ahead = mar_data['price day ahead'].mean()\n",
    "mar_avg_price_actual = mar_data['price actual'].mean()\n",
    "\n",
    "# Create a DataFrame with the average values for each month\n",
    "monthly_avg_prices = pd.DataFrame({\n",
    "    'Month': ['December', 'January', 'February', 'March'],\n",
    "    'Average Price Day Ahead': [dec_avg_price_day_ahead, jan_avg_price_day_ahead, feb_avg_price_day_ahead, mar_avg_price_day_ahead],\n",
    "    'Average Price Actual': [dec_avg_price_actual, jan_avg_price_actual, feb_avg_price_actual, mar_avg_price_actual]\n",
    "})\n",
    "\n",
    "# Plot the double bar graph\n",
    "plt.figure(figsize=(10, 6))\n",
    "ax = monthly_avg_prices.plot(x='Month', kind='bar', color=['lightblue', 'blue'])\n",
    "plt.title('Average Forecasted and Actual Price by Month')\n",
    "plt.xlabel('Month')\n",
    "plt.ylabel('EUR/MWh')\n",
    "plt.xticks(rotation=0)\n",
    "ax.legend(title='Price', loc='upper right')\n",
    "plt.ylim(0, 90)\n",
    "plt.tight_layout()\n",
    "plt.show()\n"
   ]
  },
  {
   "cell_type": "code",
   "execution_count": 143,
   "id": "0e55b9a3-3324-4697-a108-6c3e27a75cca",
   "metadata": {
    "tags": []
   },
   "outputs": [
    {
     "data": {
      "text/plain": [
       "<Figure size 1000x600 with 0 Axes>"
      ]
     },
     "metadata": {},
     "output_type": "display_data"
    },
    {
     "data": {
      "image/png": "[encoded data removed]",
      "text/plain": [
       "<Figure size 640x480 with 1 Axes>"
      ]
     },
     "metadata": {},
     "output_type": "display_data"
    }
   ],
   "source": [
    "import pandas as pd\n",
    "import matplotlib.pyplot as plt\n",
    "\n",
    "# Assuming you have loaded your dataset into a DataFrame named summer_energy\n",
    "\n",
    "# Convert 'date' column to datetime type\n",
    "summer_energy['time'] = pd.to_datetime(summer_energy['time'])\n",
    "\n",
    "# Filter the dataset for each month (June, July, August, September)\n",
    "jun_data = summer_energy[(summer_energy['time'].dt.year == 2018) & (summer_energy['time'].dt.month == 6)]\n",
    "jul_data = summer_energy[(summer_energy['time'].dt.year == 2018) & (summer_energy['time'].dt.month == 7)]\n",
    "aug_data = summer_energy[(summer_energy['time'].dt.year == 2018) & (summer_energy['time'].dt.month == 8)]\n",
    "sep_data = summer_energy[(summer_energy['time'].dt.year == 2018) & (summer_energy['time'].dt.month == 9)]\n",
    "\n",
    "# Calculate the average \"price day ahead\" and \"price actual\" for each month\n",
    "jun_avg_price_day_ahead = jun_data['price day ahead'].mean()\n",
    "jun_avg_price_actual = jun_data['price actual'].mean()\n",
    "\n",
    "jul_avg_price_day_ahead = jul_data['price day ahead'].mean()\n",
    "jul_avg_price_actual = jul_data['price actual'].mean()\n",
    "\n",
    "aug_avg_price_day_ahead = aug_data['price day ahead'].mean()\n",
    "aug_avg_price_actual = aug_data['price actual'].mean()\n",
    "\n",
    "sep_avg_price_day_ahead = sep_data['price day ahead'].mean()\n",
    "sep_avg_price_actual = sep_data['price actual'].mean()\n",
    "\n",
    "# Create a DataFrame with the average values for each month\n",
    "monthly_avg_prices = pd.DataFrame({\n",
    "    'Month': ['June', 'July', 'August', 'September'],\n",
    "    'Average Price Day Ahead': [jun_avg_price_day_ahead, jul_avg_price_day_ahead, aug_avg_price_day_ahead, sep_avg_price_day_ahead],\n",
    "    'Average Price Actual': [jun_avg_price_actual, jul_avg_price_actual, aug_avg_price_actual, sep_avg_price_actual]\n",
    "})\n",
    "\n",
    "# Plot the double bar graph\n",
    "plt.figure(figsize=(10, 6))\n",
    "ax = monthly_avg_prices.plot(x='Month', kind='bar', color=['yellow', 'lightcoral'])\n",
    "plt.title('Average Forecasted and Actual Price by Month')\n",
    "plt.xlabel('Month')\n",
    "plt.ylabel('EUR/MWh')\n",
    "plt.xticks(rotation=0)\n",
    "ax.legend(title='Price', loc='upper left')\n",
    "plt.ylim(0, 90)\n",
    "plt.tight_layout()\n",
    "plt.show()\n"
   ]
  }
 ],
 "metadata": {
  "kernelspec": {
   "display_name": "Python 3 (ipykernel)",
   "language": "python",
   "name": "python3"
  },
  "language_info": {
   "codemirror_mode": {
    "name": "ipython",
    "version": 3
   },
   "file_extension": ".py",
   "mimetype": "text/x-python",
   "name": "python",
   "nbconvert_exporter": "python",
   "pygments_lexer": "ipython3",
   "version": "3.11.4"
  }
 },
 "nbformat": 4,
 "nbformat_minor": 5
}
