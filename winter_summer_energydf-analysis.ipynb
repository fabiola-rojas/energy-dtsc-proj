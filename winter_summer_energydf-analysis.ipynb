{
 "cells": [
  {
   "cell_type": "code",
   "execution_count": 89,
   "id": "9cae531f-86d4-49fa-bb3f-2ff85558f298",
   "metadata": {
    "tags": []
   },
   "outputs": [
    {
     "data": {
      "text/html": [
       "<div>\n",
       "<style scoped>\n",
       "    .dataframe tbody tr th:only-of-type {\n",
       "        vertical-align: middle;\n",
       "    }\n",
       "\n",
       "    .dataframe tbody tr th {\n",
       "        vertical-align: top;\n",
       "    }\n",
       "\n",
       "    .dataframe thead th {\n",
       "        text-align: right;\n",
       "    }\n",
       "</style>\n",
       "<table border=\"1\" class=\"dataframe\">\n",
       "  <thead>\n",
       "    <tr style=\"text-align: right;\">\n",
       "      <th></th>\n",
       "      <th>time</th>\n",
       "      <th>generation biomass</th>\n",
       "      <th>generation fossil</th>\n",
       "      <th>generation hydro</th>\n",
       "      <th>generation nuclear</th>\n",
       "      <th>generation solar</th>\n",
       "      <th>generation waste</th>\n",
       "      <th>generation wind onshore</th>\n",
       "      <th>generation other</th>\n",
       "      <th>generation other renewable</th>\n",
       "      <th>total load forecast</th>\n",
       "      <th>total load actual</th>\n",
       "      <th>price day ahead</th>\n",
       "      <th>price actual</th>\n",
       "    </tr>\n",
       "  </thead>\n",
       "  <tbody>\n",
       "    <tr>\n",
       "      <th>0</th>\n",
       "      <td>2015-01-01 00:00:00+01:00</td>\n",
       "      <td>447.0</td>\n",
       "      <td>10156.0</td>\n",
       "      <td>3813.0</td>\n",
       "      <td>7096.0</td>\n",
       "      <td>49.0</td>\n",
       "      <td>196.0</td>\n",
       "      <td>6378.0</td>\n",
       "      <td>43.0</td>\n",
       "      <td>73.0</td>\n",
       "      <td>26118.0</td>\n",
       "      <td>25385.0</td>\n",
       "      <td>50.10</td>\n",
       "      <td>65.41</td>\n",
       "    </tr>\n",
       "    <tr>\n",
       "      <th>1</th>\n",
       "      <td>2015-01-01 01:00:00+01:00</td>\n",
       "      <td>449.0</td>\n",
       "      <td>10437.0</td>\n",
       "      <td>3587.0</td>\n",
       "      <td>7096.0</td>\n",
       "      <td>50.0</td>\n",
       "      <td>195.0</td>\n",
       "      <td>5890.0</td>\n",
       "      <td>43.0</td>\n",
       "      <td>71.0</td>\n",
       "      <td>24934.0</td>\n",
       "      <td>24382.0</td>\n",
       "      <td>48.10</td>\n",
       "      <td>64.92</td>\n",
       "    </tr>\n",
       "    <tr>\n",
       "      <th>2</th>\n",
       "      <td>2015-01-01 02:00:00+01:00</td>\n",
       "      <td>448.0</td>\n",
       "      <td>9918.0</td>\n",
       "      <td>3508.0</td>\n",
       "      <td>7099.0</td>\n",
       "      <td>50.0</td>\n",
       "      <td>196.0</td>\n",
       "      <td>5461.0</td>\n",
       "      <td>43.0</td>\n",
       "      <td>73.0</td>\n",
       "      <td>23515.0</td>\n",
       "      <td>22734.0</td>\n",
       "      <td>47.33</td>\n",
       "      <td>64.48</td>\n",
       "    </tr>\n",
       "    <tr>\n",
       "      <th>3</th>\n",
       "      <td>2015-01-01 03:00:00+01:00</td>\n",
       "      <td>438.0</td>\n",
       "      <td>8859.0</td>\n",
       "      <td>3231.0</td>\n",
       "      <td>7098.0</td>\n",
       "      <td>50.0</td>\n",
       "      <td>191.0</td>\n",
       "      <td>5238.0</td>\n",
       "      <td>43.0</td>\n",
       "      <td>75.0</td>\n",
       "      <td>22642.0</td>\n",
       "      <td>21286.0</td>\n",
       "      <td>42.27</td>\n",
       "      <td>59.32</td>\n",
       "    </tr>\n",
       "    <tr>\n",
       "      <th>4</th>\n",
       "      <td>2015-01-01 04:00:00+01:00</td>\n",
       "      <td>428.0</td>\n",
       "      <td>8313.0</td>\n",
       "      <td>3499.0</td>\n",
       "      <td>7097.0</td>\n",
       "      <td>42.0</td>\n",
       "      <td>189.0</td>\n",
       "      <td>4935.0</td>\n",
       "      <td>43.0</td>\n",
       "      <td>74.0</td>\n",
       "      <td>21785.0</td>\n",
       "      <td>20264.0</td>\n",
       "      <td>38.41</td>\n",
       "      <td>56.04</td>\n",
       "    </tr>\n",
       "  </tbody>\n",
       "</table>\n",
       "</div>"
      ],
      "text/plain": [
       "                        time  generation biomass  generation fossil  \\\n",
       "0  2015-01-01 00:00:00+01:00               447.0            10156.0   \n",
       "1  2015-01-01 01:00:00+01:00               449.0            10437.0   \n",
       "2  2015-01-01 02:00:00+01:00               448.0             9918.0   \n",
       "3  2015-01-01 03:00:00+01:00               438.0             8859.0   \n",
       "4  2015-01-01 04:00:00+01:00               428.0             8313.0   \n",
       "\n",
       "   generation hydro  generation nuclear  generation solar  generation waste  \\\n",
       "0            3813.0              7096.0              49.0             196.0   \n",
       "1            3587.0              7096.0              50.0             195.0   \n",
       "2            3508.0              7099.0              50.0             196.0   \n",
       "3            3231.0              7098.0              50.0             191.0   \n",
       "4            3499.0              7097.0              42.0             189.0   \n",
       "\n",
       "   generation wind onshore  generation other  generation other renewable  \\\n",
       "0                   6378.0              43.0                        73.0   \n",
       "1                   5890.0              43.0                        71.0   \n",
       "2                   5461.0              43.0                        73.0   \n",
       "3                   5238.0              43.0                        75.0   \n",
       "4                   4935.0              43.0                        74.0   \n",
       "\n",
       "   total load forecast  total load actual  price day ahead  price actual  \n",
       "0              26118.0            25385.0            50.10         65.41  \n",
       "1              24934.0            24382.0            48.10         64.92  \n",
       "2              23515.0            22734.0            47.33         64.48  \n",
       "3              22642.0            21286.0            42.27         59.32  \n",
       "4              21785.0            20264.0            38.41         56.04  "
      ]
     },
     "execution_count": 89,
     "metadata": {},
     "output_type": "execute_result"
    }
   ],
   "source": [
    "import pandas as pd\n",
    "energy = pd.read_csv(\"/Users/fabiolarojas/Documents/data-science/dtsc2103:2/2302project/energydf.csv\")\n",
    "energy.head()"
   ]
  },
  {
   "cell_type": "code",
   "execution_count": 90,
   "id": "a6782519-fc90-49e0-987e-62bb3b2c5398",
   "metadata": {
    "tags": []
   },
   "outputs": [
    {
     "data": {
      "text/plain": [
       "dtype('O')"
      ]
     },
     "execution_count": 90,
     "metadata": {},
     "output_type": "execute_result"
    }
   ],
   "source": [
    "energy['time'].dtype"
   ]
  },
  {
   "cell_type": "code",
   "execution_count": 91,
   "id": "1d2379c3-c5c7-4072-9d86-e21d11315e6a",
   "metadata": {
    "tags": []
   },
   "outputs": [
    {
     "name": "stdout",
     "output_type": "stream",
     "text": [
      "Successfully converted 'time' column to datetime type.\n"
     ]
    },
    {
     "data": {
      "text/plain": [
       "datetime64[ns, UTC]"
      ]
     },
     "execution_count": 91,
     "metadata": {},
     "output_type": "execute_result"
    }
   ],
   "source": [
    "try:\n",
    "    energy['time'] = pd.to_datetime(energy['time'], utc=True)\n",
    "    print(\"Successfully converted 'time' column to datetime type.\")\n",
    "except ValueError as e:\n",
    "    print(\"Error encountered while converting 'time' column:\", e)\n",
    "\n",
    "energy['time'].dtype"
   ]
  },
  {
   "cell_type": "markdown",
   "id": "b84a654d-13a4-4b1c-bc28-9bd352d5e5dc",
   "metadata": {
    "tags": []
   },
   "source": [
    "# winter energy"
   ]
  },
  {
   "cell_type": "code",
   "execution_count": 115,
   "id": "65246ad2-e2b5-4116-9c99-ed5cc8e040e5",
   "metadata": {
    "tags": []
   },
   "outputs": [
    {
     "data": {
      "text/html": [
       "<div>\n",
       "<style scoped>\n",
       "    .dataframe tbody tr th:only-of-type {\n",
       "        vertical-align: middle;\n",
       "    }\n",
       "\n",
       "    .dataframe tbody tr th {\n",
       "        vertical-align: top;\n",
       "    }\n",
       "\n",
       "    .dataframe thead th {\n",
       "        text-align: right;\n",
       "    }\n",
       "</style>\n",
       "<table border=\"1\" class=\"dataframe\">\n",
       "  <thead>\n",
       "    <tr style=\"text-align: right;\">\n",
       "      <th></th>\n",
       "      <th>time</th>\n",
       "      <th>generation biomass</th>\n",
       "      <th>generation fossil</th>\n",
       "      <th>generation hydro</th>\n",
       "      <th>generation nuclear</th>\n",
       "      <th>generation solar</th>\n",
       "      <th>generation waste</th>\n",
       "      <th>generation wind onshore</th>\n",
       "      <th>generation other</th>\n",
       "      <th>generation other renewable</th>\n",
       "      <th>total load forecast</th>\n",
       "      <th>total load actual</th>\n",
       "      <th>price day ahead</th>\n",
       "      <th>price actual</th>\n",
       "    </tr>\n",
       "  </thead>\n",
       "  <tbody>\n",
       "    <tr>\n",
       "      <th>1</th>\n",
       "      <td>2015-01-01 00:00:00+00:00</td>\n",
       "      <td>449.0</td>\n",
       "      <td>10437.0</td>\n",
       "      <td>3587.0</td>\n",
       "      <td>7096.0</td>\n",
       "      <td>50.0</td>\n",
       "      <td>195.0</td>\n",
       "      <td>5890.0</td>\n",
       "      <td>43.0</td>\n",
       "      <td>71.0</td>\n",
       "      <td>24934.0</td>\n",
       "      <td>24382.0</td>\n",
       "      <td>48.10</td>\n",
       "      <td>64.92</td>\n",
       "    </tr>\n",
       "    <tr>\n",
       "      <th>2</th>\n",
       "      <td>2015-01-01 01:00:00+00:00</td>\n",
       "      <td>448.0</td>\n",
       "      <td>9918.0</td>\n",
       "      <td>3508.0</td>\n",
       "      <td>7099.0</td>\n",
       "      <td>50.0</td>\n",
       "      <td>196.0</td>\n",
       "      <td>5461.0</td>\n",
       "      <td>43.0</td>\n",
       "      <td>73.0</td>\n",
       "      <td>23515.0</td>\n",
       "      <td>22734.0</td>\n",
       "      <td>47.33</td>\n",
       "      <td>64.48</td>\n",
       "    </tr>\n",
       "    <tr>\n",
       "      <th>3</th>\n",
       "      <td>2015-01-01 02:00:00+00:00</td>\n",
       "      <td>438.0</td>\n",
       "      <td>8859.0</td>\n",
       "      <td>3231.0</td>\n",
       "      <td>7098.0</td>\n",
       "      <td>50.0</td>\n",
       "      <td>191.0</td>\n",
       "      <td>5238.0</td>\n",
       "      <td>43.0</td>\n",
       "      <td>75.0</td>\n",
       "      <td>22642.0</td>\n",
       "      <td>21286.0</td>\n",
       "      <td>42.27</td>\n",
       "      <td>59.32</td>\n",
       "    </tr>\n",
       "    <tr>\n",
       "      <th>4</th>\n",
       "      <td>2015-01-01 03:00:00+00:00</td>\n",
       "      <td>428.0</td>\n",
       "      <td>8313.0</td>\n",
       "      <td>3499.0</td>\n",
       "      <td>7097.0</td>\n",
       "      <td>42.0</td>\n",
       "      <td>189.0</td>\n",
       "      <td>4935.0</td>\n",
       "      <td>43.0</td>\n",
       "      <td>74.0</td>\n",
       "      <td>21785.0</td>\n",
       "      <td>20264.0</td>\n",
       "      <td>38.41</td>\n",
       "      <td>56.04</td>\n",
       "    </tr>\n",
       "    <tr>\n",
       "      <th>5</th>\n",
       "      <td>2015-01-01 04:00:00+00:00</td>\n",
       "      <td>410.0</td>\n",
       "      <td>7962.0</td>\n",
       "      <td>3804.0</td>\n",
       "      <td>7098.0</td>\n",
       "      <td>34.0</td>\n",
       "      <td>188.0</td>\n",
       "      <td>4618.0</td>\n",
       "      <td>43.0</td>\n",
       "      <td>74.0</td>\n",
       "      <td>21441.0</td>\n",
       "      <td>19905.0</td>\n",
       "      <td>35.72</td>\n",
       "      <td>53.63</td>\n",
       "    </tr>\n",
       "  </tbody>\n",
       "</table>\n",
       "</div>"
      ],
      "text/plain": [
       "                       time  generation biomass  generation fossil  \\\n",
       "1 2015-01-01 00:00:00+00:00               449.0            10437.0   \n",
       "2 2015-01-01 01:00:00+00:00               448.0             9918.0   \n",
       "3 2015-01-01 02:00:00+00:00               438.0             8859.0   \n",
       "4 2015-01-01 03:00:00+00:00               428.0             8313.0   \n",
       "5 2015-01-01 04:00:00+00:00               410.0             7962.0   \n",
       "\n",
       "   generation hydro  generation nuclear  generation solar  generation waste  \\\n",
       "1            3587.0              7096.0              50.0             195.0   \n",
       "2            3508.0              7099.0              50.0             196.0   \n",
       "3            3231.0              7098.0              50.0             191.0   \n",
       "4            3499.0              7097.0              42.0             189.0   \n",
       "5            3804.0              7098.0              34.0             188.0   \n",
       "\n",
       "   generation wind onshore  generation other  generation other renewable  \\\n",
       "1                   5890.0              43.0                        71.0   \n",
       "2                   5461.0              43.0                        73.0   \n",
       "3                   5238.0              43.0                        75.0   \n",
       "4                   4935.0              43.0                        74.0   \n",
       "5                   4618.0              43.0                        74.0   \n",
       "\n",
       "   total load forecast  total load actual  price day ahead  price actual  \n",
       "1              24934.0            24382.0            48.10         64.92  \n",
       "2              23515.0            22734.0            47.33         64.48  \n",
       "3              22642.0            21286.0            42.27         59.32  \n",
       "4              21785.0            20264.0            38.41         56.04  \n",
       "5              21441.0            19905.0            35.72         53.63  "
      ]
     },
     "execution_count": 115,
     "metadata": {},
     "output_type": "execute_result"
    }
   ],
   "source": [
    "\n",
    "energy['year'] = energy['time'].dt.year\n",
    "energy['month'] = energy['time'].dt.month\n",
    "\n",
    "winter_months = [12, 1, 2, 3]\n",
    "\n",
    "winter_energy = energy[(energy['year'].isin([2015, 2016, 2017, 2018])) & (energy['month'].isin(winter_months))]\n",
    "\n",
    "winter_energy = winter_energy.drop(['year', 'month'], axis=1)\n",
    "winter_energy.head()"
   ]
  },
  {
   "cell_type": "code",
   "execution_count": 93,
   "id": "a5eb9931-6e10-48d0-864d-723ec6119cce",
   "metadata": {
    "tags": []
   },
   "outputs": [
    {
     "data": {
      "text/html": [
       "<div>\n",
       "<style scoped>\n",
       "    .dataframe tbody tr th:only-of-type {\n",
       "        vertical-align: middle;\n",
       "    }\n",
       "\n",
       "    .dataframe tbody tr th {\n",
       "        vertical-align: top;\n",
       "    }\n",
       "\n",
       "    .dataframe thead th {\n",
       "        text-align: right;\n",
       "    }\n",
       "</style>\n",
       "<table border=\"1\" class=\"dataframe\">\n",
       "  <thead>\n",
       "    <tr style=\"text-align: right;\">\n",
       "      <th></th>\n",
       "      <th>generation biomass</th>\n",
       "      <th>generation fossil</th>\n",
       "      <th>generation hydro</th>\n",
       "      <th>generation nuclear</th>\n",
       "      <th>generation solar</th>\n",
       "      <th>generation waste</th>\n",
       "      <th>generation wind onshore</th>\n",
       "      <th>generation other</th>\n",
       "      <th>generation other renewable</th>\n",
       "      <th>total load forecast</th>\n",
       "      <th>total load actual</th>\n",
       "      <th>price day ahead</th>\n",
       "      <th>price actual</th>\n",
       "    </tr>\n",
       "  </thead>\n",
       "  <tbody>\n",
       "    <tr>\n",
       "      <th>count</th>\n",
       "      <td>11616.000000</td>\n",
       "      <td>11616.000000</td>\n",
       "      <td>11616.000000</td>\n",
       "      <td>11616.00000</td>\n",
       "      <td>11616.000000</td>\n",
       "      <td>11616.000000</td>\n",
       "      <td>11616.000000</td>\n",
       "      <td>11616.000000</td>\n",
       "      <td>11616.000000</td>\n",
       "      <td>11616.000000</td>\n",
       "      <td>11616.000000</td>\n",
       "      <td>11616.000000</td>\n",
       "      <td>11616.000000</td>\n",
       "    </tr>\n",
       "    <tr>\n",
       "      <th>mean</th>\n",
       "      <td>388.760417</td>\n",
       "      <td>10085.145145</td>\n",
       "      <td>4619.597968</td>\n",
       "      <td>6512.48261</td>\n",
       "      <td>1143.265065</td>\n",
       "      <td>261.933970</td>\n",
       "      <td>6332.637741</td>\n",
       "      <td>63.727875</td>\n",
       "      <td>85.290548</td>\n",
       "      <td>29159.608299</td>\n",
       "      <td>29127.778926</td>\n",
       "      <td>48.471001</td>\n",
       "      <td>57.141406</td>\n",
       "    </tr>\n",
       "    <tr>\n",
       "      <th>std</th>\n",
       "      <td>85.660199</td>\n",
       "      <td>3948.324477</td>\n",
       "      <td>2135.804364</td>\n",
       "      <td>777.68380</td>\n",
       "      <td>1500.528673</td>\n",
       "      <td>55.790518</td>\n",
       "      <td>3510.722520</td>\n",
       "      <td>19.340911</td>\n",
       "      <td>14.265294</td>\n",
       "      <td>4895.881991</td>\n",
       "      <td>4858.008765</td>\n",
       "      <td>16.188861</td>\n",
       "      <td>16.825590</td>\n",
       "    </tr>\n",
       "    <tr>\n",
       "      <th>min</th>\n",
       "      <td>101.000000</td>\n",
       "      <td>2673.000000</td>\n",
       "      <td>678.000000</td>\n",
       "      <td>3712.00000</td>\n",
       "      <td>2.000000</td>\n",
       "      <td>39.000000</td>\n",
       "      <td>345.000000</td>\n",
       "      <td>5.000000</td>\n",
       "      <td>14.000000</td>\n",
       "      <td>18105.000000</td>\n",
       "      <td>18041.000000</td>\n",
       "      <td>2.060000</td>\n",
       "      <td>9.330000</td>\n",
       "    </tr>\n",
       "    <tr>\n",
       "      <th>25%</th>\n",
       "      <td>332.000000</td>\n",
       "      <td>6762.750000</td>\n",
       "      <td>2920.000000</td>\n",
       "      <td>6073.00000</td>\n",
       "      <td>40.000000</td>\n",
       "      <td>220.000000</td>\n",
       "      <td>3426.750000</td>\n",
       "      <td>54.000000</td>\n",
       "      <td>73.000000</td>\n",
       "      <td>24929.750000</td>\n",
       "      <td>24922.750000</td>\n",
       "      <td>39.100000</td>\n",
       "      <td>46.880000</td>\n",
       "    </tr>\n",
       "    <tr>\n",
       "      <th>50%</th>\n",
       "      <td>372.000000</td>\n",
       "      <td>9661.500000</td>\n",
       "      <td>4255.000000</td>\n",
       "      <td>6978.00000</td>\n",
       "      <td>355.000000</td>\n",
       "      <td>275.000000</td>\n",
       "      <td>5917.000000</td>\n",
       "      <td>59.000000</td>\n",
       "      <td>87.000000</td>\n",
       "      <td>29257.000000</td>\n",
       "      <td>29234.000000</td>\n",
       "      <td>49.270000</td>\n",
       "      <td>57.450000</td>\n",
       "    </tr>\n",
       "    <tr>\n",
       "      <th>75%</th>\n",
       "      <td>462.000000</td>\n",
       "      <td>12912.000000</td>\n",
       "      <td>6183.250000</td>\n",
       "      <td>7100.00000</td>\n",
       "      <td>1942.000000</td>\n",
       "      <td>308.000000</td>\n",
       "      <td>8695.250000</td>\n",
       "      <td>83.000000</td>\n",
       "      <td>97.000000</td>\n",
       "      <td>33252.000000</td>\n",
       "      <td>33192.000000</td>\n",
       "      <td>60.000000</td>\n",
       "      <td>68.742500</td>\n",
       "    </tr>\n",
       "    <tr>\n",
       "      <th>max</th>\n",
       "      <td>592.000000</td>\n",
       "      <td>23688.000000</td>\n",
       "      <td>11613.000000</td>\n",
       "      <td>7117.00000</td>\n",
       "      <td>5792.000000</td>\n",
       "      <td>357.000000</td>\n",
       "      <td>17436.000000</td>\n",
       "      <td>106.000000</td>\n",
       "      <td>115.000000</td>\n",
       "      <td>41035.000000</td>\n",
       "      <td>41015.000000</td>\n",
       "      <td>101.990000</td>\n",
       "      <td>112.810000</td>\n",
       "    </tr>\n",
       "  </tbody>\n",
       "</table>\n",
       "</div>"
      ],
      "text/plain": [
       "       generation biomass  generation fossil  generation hydro  \\\n",
       "count        11616.000000       11616.000000      11616.000000   \n",
       "mean           388.760417       10085.145145       4619.597968   \n",
       "std             85.660199        3948.324477       2135.804364   \n",
       "min            101.000000        2673.000000        678.000000   \n",
       "25%            332.000000        6762.750000       2920.000000   \n",
       "50%            372.000000        9661.500000       4255.000000   \n",
       "75%            462.000000       12912.000000       6183.250000   \n",
       "max            592.000000       23688.000000      11613.000000   \n",
       "\n",
       "       generation nuclear  generation solar  generation waste  \\\n",
       "count         11616.00000      11616.000000      11616.000000   \n",
       "mean           6512.48261       1143.265065        261.933970   \n",
       "std             777.68380       1500.528673         55.790518   \n",
       "min            3712.00000          2.000000         39.000000   \n",
       "25%            6073.00000         40.000000        220.000000   \n",
       "50%            6978.00000        355.000000        275.000000   \n",
       "75%            7100.00000       1942.000000        308.000000   \n",
       "max            7117.00000       5792.000000        357.000000   \n",
       "\n",
       "       generation wind onshore  generation other  generation other renewable  \\\n",
       "count             11616.000000      11616.000000                11616.000000   \n",
       "mean               6332.637741         63.727875                   85.290548   \n",
       "std                3510.722520         19.340911                   14.265294   \n",
       "min                 345.000000          5.000000                   14.000000   \n",
       "25%                3426.750000         54.000000                   73.000000   \n",
       "50%                5917.000000         59.000000                   87.000000   \n",
       "75%                8695.250000         83.000000                   97.000000   \n",
       "max               17436.000000        106.000000                  115.000000   \n",
       "\n",
       "       total load forecast  total load actual  price day ahead  price actual  \n",
       "count         11616.000000       11616.000000     11616.000000  11616.000000  \n",
       "mean          29159.608299       29127.778926        48.471001     57.141406  \n",
       "std            4895.881991        4858.008765        16.188861     16.825590  \n",
       "min           18105.000000       18041.000000         2.060000      9.330000  \n",
       "25%           24929.750000       24922.750000        39.100000     46.880000  \n",
       "50%           29257.000000       29234.000000        49.270000     57.450000  \n",
       "75%           33252.000000       33192.000000        60.000000     68.742500  \n",
       "max           41035.000000       41015.000000       101.990000    112.810000  "
      ]
     },
     "execution_count": 93,
     "metadata": {},
     "output_type": "execute_result"
    }
   ],
   "source": [
    "winter_energy.describe()"
   ]
  },
  {
   "cell_type": "markdown",
   "id": "5f9aaa0a-5716-4cb9-a86a-03e08d29e42d",
   "metadata": {
    "tags": []
   },
   "source": [
    "## feature importance - all cols"
   ]
  },
  {
   "cell_type": "code",
   "execution_count": 127,
   "id": "ee137645-a4f1-438f-8a7e-9f878e415f29",
   "metadata": {
    "tags": []
   },
   "outputs": [
    {
     "data": {
      "image/png": "[encoded data removed]",
      "text/plain": [
       "<Figure size 1000x600 with 1 Axes>"
      ]
     },
     "metadata": {},
     "output_type": "display_data"
    }
   ],
   "source": [
    "from sklearn.ensemble import RandomForestRegressor\n",
    "from sklearn.model_selection import train_test_split\n",
    "import matplotlib.pyplot as plt\n",
    "\n",
    "X = winter_energy[[\"generation biomass\", \"generation fossil\", \"generation hydro\", \"generation nuclear\", \"generation solar\", \n",
    "           \"generation waste\", \"generation wind onshore\", \"generation other\", \"generation other renewable\", \n",
    "                  \"total load forecast\", \"total load actual\", \"price day ahead\"]]\n",
    "y = winter_energy[\"price actual\"]\n",
    "\n",
    "X_train, X_test, y_train, y_test = train_test_split(X, y, test_size=0.2, random_state=42)\n",
    "\n",
    "# Initialize and train the Random Forest model\n",
    "rf = RandomForestRegressor(n_estimators=100, random_state=42)\n",
    "rf.fit(X_train, y_train)\n",
    "# Get feature importance\n",
    "feature_importances = rf.feature_importances_\n",
    "\n",
    "# Create a DataFrame to visualize the feature importances\n",
    "features_df = pd.DataFrame({'Feature': X.columns, 'Importance': feature_importances})\n",
    "features_df = features_df.sort_values(by='Importance', ascending=False)\n",
    "\n",
    "# Plotting\n",
    "plt.figure(figsize=(10, 6))\n",
    "plt.bar(features_df['Feature'], features_df['Importance'], color='skyblue')\n",
    "plt.xlabel('Features')\n",
    "plt.ylabel('Importance')\n",
    "plt.xticks(rotation=45)\n",
    "plt.title('Feature Importance (Winter)')\n",
    "plt.show()"
   ]
  },
  {
   "cell_type": "markdown",
   "id": "7379d909-2182-42ba-b680-913a2a90f69d",
   "metadata": {},
   "source": [
    "## feature importance - generation cols"
   ]
  },
  {
   "cell_type": "code",
   "execution_count": 95,
   "id": "948dd8b1-3e44-4e6b-b0b1-d7fa5dc015cc",
   "metadata": {
    "tags": []
   },
   "outputs": [
    {
     "data": {
      "image/png": "[encoded data removed]",
      "text/plain": [
       "<Figure size 1000x600 with 1 Axes>"
      ]
     },
     "metadata": {},
     "output_type": "display_data"
    }
   ],
   "source": [
    "\n",
    "X = winter_energy[[\"generation biomass\", \"generation fossil\", \"generation hydro\", \"generation nuclear\", \"generation solar\", \n",
    "           \"generation waste\", \"generation wind onshore\", \"generation other\", \"generation other renewable\"]]\n",
    "y = winter_energy[\"price actual\"]\n",
    "\n",
    "X_train, X_test, y_train, y_test = train_test_split(X, y, test_size=0.2, random_state=42)\n",
    "\n",
    "# Initialize and train the Random Forest model\n",
    "rf = RandomForestRegressor(n_estimators=100, random_state=42)\n",
    "rf.fit(X_train, y_train)\n",
    "# Get feature importance\n",
    "feature_importances = rf.feature_importances_\n",
    "\n",
    "# Create a DataFrame to visualize the feature importances\n",
    "features_df = pd.DataFrame({'Feature': X.columns, 'Importance': feature_importances})\n",
    "features_df = features_df.sort_values(by='Importance', ascending=False)\n",
    "\n",
    "# Plotting\n",
    "plt.figure(figsize=(10, 6))\n",
    "plt.bar(features_df['Feature'], features_df['Importance'], color='skyblue')\n",
    "plt.xlabel('Features')\n",
    "plt.ylabel('Importance')\n",
    "plt.xticks(rotation=45)\n",
    "plt.title('Feature Importance')\n",
    "plt.show()"
   ]
  },
  {
   "cell_type": "markdown",
   "id": "febbc4c1-6ef2-496e-ab24-921a9c658174",
   "metadata": {},
   "source": [
    "## correlation - all cols"
   ]
  },
  {
   "cell_type": "code",
   "execution_count": 96,
   "id": "3aa0cbe2-5ccf-41f9-9ff6-54b90dc57606",
   "metadata": {
    "tags": []
   },
   "outputs": [
    {
     "name": "stdout",
     "output_type": "stream",
     "text": [
      "Top predictor variables:\n",
      "price day ahead               0.744152\n",
      "generation fossil             0.572490\n",
      "total load forecast           0.495385\n",
      "total load actual             0.493462\n",
      "generation other renewable    0.335710\n",
      "generation waste              0.244964\n",
      "generation wind onshore       0.189171\n",
      "generation hydro              0.158044\n",
      "generation solar              0.066265\n",
      "Name: price actual, dtype: float64\n"
     ]
    },
    {
     "name": "stderr",
     "output_type": "stream",
     "text": [
      "/var/folders/l6/r_xvzzfd4bz5k_gjy82lbn6r0000gn/T/ipykernel_779/252529705.py:2: FutureWarning: The default value of numeric_only in DataFrame.corr is deprecated. In a future version, it will default to False. Select only valid columns or specify the value of numeric_only to silence this warning.\n",
      "  correlation_matrix = winter_energy.corr()\n"
     ]
    }
   ],
   "source": [
    "# Calculate correlation coefficients\n",
    "correlation_matrix = winter_energy.corr()\n",
    "correlation_with_price_actual = correlation_matrix['price actual'].abs().sort_values(ascending=False)\n",
    "\n",
    "# Select top correlated predictor variables\n",
    "top_predictors = correlation_with_price_actual[1:10]  # Excluding 'price actual' itself\n",
    "print(\"Top predictor variables:\")\n",
    "print(top_predictors)"
   ]
  },
  {
   "cell_type": "markdown",
   "id": "e39d4dce-c718-4061-8b3f-aeeb2e7647db",
   "metadata": {
    "tags": []
   },
   "source": [
    "## regression models (same predictors as summer model)"
   ]
  },
  {
   "cell_type": "markdown",
   "id": "02276cce-a65b-46ad-8749-75b986370915",
   "metadata": {},
   "source": [
    "### linear regression"
   ]
  },
  {
   "cell_type": "code",
   "execution_count": 120,
   "id": "509bd960-795c-4c4d-9a60-198164d4a02a",
   "metadata": {
    "tags": []
   },
   "outputs": [
    {
     "name": "stdout",
     "output_type": "stream",
     "text": [
      "                      Feature  Coefficient\n",
      "0             price day ahead     0.816833\n",
      "1           generation fossil    -0.000344\n",
      "2         total load forecast     0.000426\n",
      "3          generation nuclear     0.000111\n",
      "4  generation other renewable     0.018626\n",
      "5            generation waste    -0.032762\n",
      "6          generation biomass     0.000518\n",
      "Intercept: 14.625227381491271\n",
      "R-squared: 0.5363387593913542\n",
      "Mean Absolute Error: 7.547350228979988\n",
      "Mean Squared Error: 139.7306096976694\n",
      "Root Mean Squared Error: 11.820770266681837\n"
     ]
    }
   ],
   "source": [
    "\n",
    "from sklearn.linear_model import LinearRegression\n",
    "from sklearn.metrics import r2_score, mean_absolute_error, mean_squared_error\n",
    "import numpy as np\n",
    "\n",
    "X = winter_energy[[\"price day ahead\", \"generation fossil\", \"total load forecast\", \n",
    "                   \"generation nuclear\", \"generation other renewable\", \"generation waste\",\n",
    "                   \"generation biomass\"]]\n",
    "y = winter_energy[\"price actual\"]\n",
    "\n",
    "X_train, X_test, y_train, y_test = train_test_split(X, y, test_size=0.2, random_state=42)\n",
    "lr = LinearRegression()\n",
    "lr.fit(X_train, y_train)\n",
    "\n",
    "# Get coefficients\n",
    "coefficients = lr.coef_\n",
    "\n",
    "# Create a DataFrame to display feature names and their coefficients\n",
    "coefficients_df = pd.DataFrame({'Feature': X.columns, 'Coefficient': coefficients})\n",
    "print(coefficients_df)\n",
    "\n",
    "# Intercept\n",
    "print(f\"Intercept: {lr.intercept_}\")\n",
    "\n",
    "# Make predictions on the test set\n",
    "y_pred = lr.predict(X_test)\n",
    "\n",
    "# Calculate R-squared\n",
    "r2 = r2_score(y_test, y_pred)\n",
    "\n",
    "# Calculate MAE\n",
    "mae = mean_absolute_error(y_test, y_pred)\n",
    "\n",
    "# Calculate MSE\n",
    "mse = mean_squared_error(y_test, y_pred)\n",
    "\n",
    "# Calculate RMSE\n",
    "rmse = np.sqrt(mse)\n",
    "\n",
    "print(\"R-squared:\", r2)\n",
    "print(\"Mean Absolute Error:\", mae)\n",
    "print(\"Mean Squared Error:\", mse)\n",
    "print(\"Root Mean Squared Error:\", rmse)"
   ]
  },
  {
   "cell_type": "markdown",
   "id": "d9cb79ec-4b97-4379-b5fc-548da5d54d4f",
   "metadata": {},
   "source": [
    "### k nearest neighbors"
   ]
  },
  {
   "cell_type": "code",
   "execution_count": 121,
   "id": "c65869c3-d89c-4e26-a86e-e4c45662f1b3",
   "metadata": {
    "tags": []
   },
   "outputs": [
    {
     "name": "stdout",
     "output_type": "stream",
     "text": [
      "R-squared: 0.4671169898959807\n",
      "Mean Absolute Error: 9.4595\n",
      "Mean Squared Error: 160.59152971600687\n",
      "Root Mean Squared Error: 12.672471334195508\n"
     ]
    }
   ],
   "source": [
    "from sklearn.neighbors import KNeighborsRegressor\n",
    "\n",
    "k = 5 \n",
    "knn_model = KNeighborsRegressor(n_neighbors=k)\n",
    "knn_model.fit(X_train, y_train)\n",
    "\n",
    "y_pred = knn_model.predict(X_test)\n",
    "\n",
    "r_squared = knn_model.score(X_test, y_test)\n",
    "mae = mean_absolute_error(y_test, y_pred)\n",
    "mse = mean_squared_error(y_test, y_pred)\n",
    "rmse = mean_squared_error(y_test, y_pred, squared=False) \n",
    "\n",
    "print(\"R-squared:\", r_squared)\n",
    "print(\"Mean Absolute Error:\", mae)\n",
    "print(\"Mean Squared Error:\", mse)\n",
    "print(\"Root Mean Squared Error:\", rmse)\n"
   ]
  },
  {
   "cell_type": "markdown",
   "id": "9b331430-b426-4435-8c90-4766e05cd6ba",
   "metadata": {},
   "source": [
    "### random forest regressor"
   ]
  },
  {
   "cell_type": "code",
   "execution_count": 124,
   "id": "2cddcf29-944d-436d-8fdc-271be2a4c44b",
   "metadata": {
    "tags": []
   },
   "outputs": [
    {
     "name": "stdout",
     "output_type": "stream",
     "text": [
      "R-squared: 0.8317056498789489\n",
      "Adjusted R^2: 0.8316041629345272\n",
      "Mean Absolute Error: 4.194308950086059\n",
      "Mean Squared Error: 50.71778723668675\n",
      "Root Mean Squared Error: 7.121642172749678\n"
     ]
    }
   ],
   "source": [
    "\n",
    "rf_model = RandomForestRegressor(random_state=42)\n",
    "rf_model.fit(X_train, y_train)\n",
    "\n",
    "y_pred = rf_model.predict(X_test)\n",
    "\n",
    "r_squared = rf_model.score(X_test, y_test)\n",
    "mae = mean_absolute_error(y_test, y_pred)\n",
    "mse = mean_squared_error(y_test, y_pred)\n",
    "rmse = mean_squared_error(y_test, y_pred, squared=False) \n",
    "\n",
    "# Number of samples\n",
    "n = len(y)\n",
    "\n",
    "# Number of predictors (features)\n",
    "k = X.shape[1]\n",
    "\n",
    "# Calculate adjusted R^2\n",
    "adjusted_r_squared = 1 - (1 - r_squared) * (n - 1) / (n - k - 1)\n",
    "\n",
    "print(\"R-squared:\", r_squared)\n",
    "print(\"Adjusted R^2:\", adjusted_r_squared)\n",
    "print(\"Mean Absolute Error:\", mae)\n",
    "print(\"Mean Squared Error:\", mse)\n",
    "print(\"Root Mean Squared Error:\", rmse)"
   ]
  },
  {
   "cell_type": "markdown",
   "id": "9c762669-94ad-4371-9a03-2f950ab7762b",
   "metadata": {},
   "source": [
    "### xgboost"
   ]
  },
  {
   "cell_type": "code",
   "execution_count": 101,
   "id": "f28163d4-2f95-4d0a-956b-26f98167c9ef",
   "metadata": {
    "tags": []
   },
   "outputs": [
    {
     "name": "stdout",
     "output_type": "stream",
     "text": [
      "R-squared: 0.8191440594073464\n",
      "Mean Absolute Error: 4.752421125224864\n",
      "Mean Squared Error: 54.503393066204346\n",
      "Root Mean Squared Error: 7.382641333980972\n"
     ]
    }
   ],
   "source": [
    "import xgboost as xgb\n",
    "\n",
    "xgb_model = xgb.XGBRegressor(random_state=42)\n",
    "xgb_model.fit(X_train, y_train)\n",
    "\n",
    "y_pred = xgb_model.predict(X_test)\n",
    "\n",
    "r_squared = xgb_model.score(X_test, y_test)\n",
    "mae = mean_absolute_error(y_test, y_pred)\n",
    "mse = mean_squared_error(y_test, y_pred)\n",
    "rmse = mean_squared_error(y_test, y_pred, squared=False)\n",
    "\n",
    "print(\"R-squared:\", r_squared)\n",
    "print(\"Mean Absolute Error:\", mae)\n",
    "print(\"Mean Squared Error:\", mse)\n",
    "print(\"Root Mean Squared Error:\", rmse)\n"
   ]
  },
  {
   "cell_type": "markdown",
   "id": "e545efb8-5e61-47a7-b652-63c96b99df1d",
   "metadata": {},
   "source": [
    "## regression models (winter-specific predictors)"
   ]
  },
  {
   "cell_type": "markdown",
   "id": "455c34e9-8e6c-41ea-9ed4-1f87bc08d636",
   "metadata": {},
   "source": [
    "### linear regression"
   ]
  },
  {
   "cell_type": "code",
   "execution_count": 102,
   "id": "1342a55d-537e-4f44-b810-ae57af85279f",
   "metadata": {
    "tags": []
   },
   "outputs": [
    {
     "name": "stdout",
     "output_type": "stream",
     "text": [
      "                      Feature  Coefficient\n",
      "0             price day ahead     0.816833\n",
      "1           generation fossil    -0.000344\n",
      "2         total load forecast     0.000426\n",
      "3          generation nuclear     0.000111\n",
      "4  generation other renewable     0.018626\n",
      "5            generation waste    -0.032762\n",
      "6          generation biomass     0.000518\n",
      "Intercept: 14.625227381491271\n",
      "R-squared: 0.5363387593913542\n",
      "Mean Absolute Error: 7.547350228979988\n",
      "Mean Squared Error: 139.7306096976694\n",
      "Root Mean Squared Error: 11.820770266681837\n"
     ]
    }
   ],
   "source": [
    "\n",
    "X = winter_energy[[\"price day ahead\", \"generation fossil\", \"total load forecast\", \n",
    "                   \"generation nuclear\", \"generation other renewable\", \"generation waste\", \n",
    "                   \"generation biomass\"]]\n",
    "y = winter_energy[\"price actual\"]\n",
    "\n",
    "X_train, X_test, y_train, y_test = train_test_split(X, y, test_size=0.2, random_state=42)\n",
    "lr = LinearRegression()\n",
    "lr.fit(X_train, y_train)\n",
    "\n",
    "# Get coefficients\n",
    "coefficients = lr.coef_\n",
    "\n",
    "# Create a DataFrame to display feature names and their coefficients\n",
    "coefficients_df = pd.DataFrame({'Feature': X.columns, 'Coefficient': coefficients})\n",
    "print(coefficients_df)\n",
    "\n",
    "# Intercept\n",
    "print(f\"Intercept: {lr.intercept_}\")\n",
    "\n",
    "# Make predictions on the test set\n",
    "y_pred = lr.predict(X_test)\n",
    "\n",
    "# Calculate R-squared\n",
    "r2 = r2_score(y_test, y_pred)\n",
    "\n",
    "# Calculate MAE\n",
    "mae = mean_absolute_error(y_test, y_pred)\n",
    "\n",
    "# Calculate MSE\n",
    "mse = mean_squared_error(y_test, y_pred)\n",
    "\n",
    "# Calculate RMSE\n",
    "rmse = np.sqrt(mse)\n",
    "\n",
    "print(\"R-squared:\", r2)\n",
    "print(\"Mean Absolute Error:\", mae)\n",
    "print(\"Mean Squared Error:\", mse)\n",
    "print(\"Root Mean Squared Error:\", rmse)"
   ]
  },
  {
   "cell_type": "markdown",
   "id": "8e22b632-e7a8-4c23-912c-d4b4e33fa385",
   "metadata": {},
   "source": [
    "### k nearest neighbors"
   ]
  },
  {
   "cell_type": "code",
   "execution_count": 103,
   "id": "117e5e40-3431-4dac-9882-85170a3196e7",
   "metadata": {
    "tags": []
   },
   "outputs": [
    {
     "name": "stdout",
     "output_type": "stream",
     "text": [
      "R-squared: 0.4671169898959807\n",
      "Mean Absolute Error: 9.4595\n",
      "Mean Squared Error: 160.59152971600687\n",
      "Root Mean Squared Error: 12.672471334195508\n"
     ]
    }
   ],
   "source": [
    "\n",
    "k = 5 \n",
    "knn_model = KNeighborsRegressor(n_neighbors=k)\n",
    "knn_model.fit(X_train, y_train)\n",
    "\n",
    "y_pred = knn_model.predict(X_test)\n",
    "\n",
    "r_squared = knn_model.score(X_test, y_test)\n",
    "mae = mean_absolute_error(y_test, y_pred)\n",
    "mse = mean_squared_error(y_test, y_pred)\n",
    "rmse = mean_squared_error(y_test, y_pred, squared=False) \n",
    "\n",
    "print(\"R-squared:\", r_squared)\n",
    "print(\"Mean Absolute Error:\", mae)\n",
    "print(\"Mean Squared Error:\", mse)\n",
    "print(\"Root Mean Squared Error:\", rmse)\n"
   ]
  },
  {
   "cell_type": "markdown",
   "id": "c355af43-d64d-47b5-a9ea-45127973c29a",
   "metadata": {},
   "source": [
    "### random forest regressor"
   ]
  },
  {
   "cell_type": "code",
   "execution_count": 104,
   "id": "f2b0d569-2492-40b3-9f1f-a2ff5947a3b5",
   "metadata": {
    "tags": []
   },
   "outputs": [
    {
     "name": "stdout",
     "output_type": "stream",
     "text": [
      "R-squared: 0.8317056498789489\n",
      "Adjusted R^2: 0.8316041629345272\n",
      "Mean Absolute Error: 4.194308950086059\n",
      "Mean Squared Error: 50.71778723668675\n",
      "Root Mean Squared Error: 7.121642172749678\n"
     ]
    }
   ],
   "source": [
    "\n",
    "rf_model = RandomForestRegressor(random_state=42)\n",
    "rf_model.fit(X_train, y_train)\n",
    "\n",
    "y_pred = rf_model.predict(X_test)\n",
    "\n",
    "r_squared = rf_model.score(X_test, y_test)\n",
    "mae = mean_absolute_error(y_test, y_pred)\n",
    "mse = mean_squared_error(y_test, y_pred)\n",
    "rmse = mean_squared_error(y_test, y_pred, squared=False)\n",
    "\n",
    "# Number of samples\n",
    "n = len(y)\n",
    "\n",
    "# Number of predictors (features)\n",
    "k = X.shape[1]\n",
    "\n",
    "# Calculate adjusted R^2\n",
    "adjusted_r_squared = 1 - (1 - r_squared) * (n - 1) / (n - k - 1)\n",
    "\n",
    "print(\"R-squared:\", r_squared)\n",
    "print(\"Adjusted R^2:\", adjusted_r_squared)\n",
    "print(\"Mean Absolute Error:\", mae)\n",
    "print(\"Mean Squared Error:\", mse)\n",
    "print(\"Root Mean Squared Error:\", rmse)"
   ]
  },
  {
   "cell_type": "markdown",
   "id": "937a0eda-934d-43d1-8400-5c8994e47139",
   "metadata": {},
   "source": [
    "### xgboost"
   ]
  },
  {
   "cell_type": "code",
   "execution_count": 105,
   "id": "c52c5889-b9e5-4dee-8a7e-2657ecd9a31e",
   "metadata": {
    "tags": []
   },
   "outputs": [
    {
     "name": "stdout",
     "output_type": "stream",
     "text": [
      "R-squared: 0.8422589803754794\n",
      "Mean Absolute Error: 4.4046921884172345\n",
      "Mean Squared Error: 47.537397815553575\n",
      "Root Mean Squared Error: 6.894736964928653\n"
     ]
    }
   ],
   "source": [
    "\n",
    "xgb_model = xgb.XGBRegressor(random_state=42)\n",
    "xgb_model.fit(X_train, y_train)\n",
    "\n",
    "y_pred = xgb_model.predict(X_test)\n",
    "\n",
    "r_squared = xgb_model.score(X_test, y_test)\n",
    "mae = mean_absolute_error(y_test, y_pred)\n",
    "mse = mean_squared_error(y_test, y_pred)\n",
    "rmse = mean_squared_error(y_test, y_pred, squared=False)\n",
    "\n",
    "print(\"R-squared:\", r_squared)\n",
    "print(\"Mean Absolute Error:\", mae)\n",
    "print(\"Mean Squared Error:\", mse)\n",
    "print(\"Root Mean Squared Error:\", rmse)\n"
   ]
  },
  {
   "cell_type": "markdown",
   "id": "42e9f0c6-248d-4fae-888f-cd96f5512b48",
   "metadata": {
    "tags": []
   },
   "source": [
    "# summer energy"
   ]
  },
  {
   "cell_type": "code",
   "execution_count": 106,
   "id": "1ebeba28-b5f9-4cf7-8ccb-a004679a1563",
   "metadata": {
    "tags": []
   },
   "outputs": [
    {
     "data": {
      "text/html": [
       "<div>\n",
       "<style scoped>\n",
       "    .dataframe tbody tr th:only-of-type {\n",
       "        vertical-align: middle;\n",
       "    }\n",
       "\n",
       "    .dataframe tbody tr th {\n",
       "        vertical-align: top;\n",
       "    }\n",
       "\n",
       "    .dataframe thead th {\n",
       "        text-align: right;\n",
       "    }\n",
       "</style>\n",
       "<table border=\"1\" class=\"dataframe\">\n",
       "  <thead>\n",
       "    <tr style=\"text-align: right;\">\n",
       "      <th></th>\n",
       "      <th>time</th>\n",
       "      <th>generation biomass</th>\n",
       "      <th>generation fossil</th>\n",
       "      <th>generation hydro</th>\n",
       "      <th>generation nuclear</th>\n",
       "      <th>generation solar</th>\n",
       "      <th>generation waste</th>\n",
       "      <th>generation wind onshore</th>\n",
       "      <th>generation other</th>\n",
       "      <th>generation other renewable</th>\n",
       "      <th>total load forecast</th>\n",
       "      <th>total load actual</th>\n",
       "      <th>price day ahead</th>\n",
       "      <th>price actual</th>\n",
       "    </tr>\n",
       "  </thead>\n",
       "  <tbody>\n",
       "    <tr>\n",
       "      <th>3597</th>\n",
       "      <td>2015-06-01 00:00:00+00:00</td>\n",
       "      <td>495.0</td>\n",
       "      <td>11151.0</td>\n",
       "      <td>2877.0</td>\n",
       "      <td>7098.0</td>\n",
       "      <td>31.0</td>\n",
       "      <td>244.0</td>\n",
       "      <td>2815.0</td>\n",
       "      <td>43.0</td>\n",
       "      <td>72.0</td>\n",
       "      <td>21585.0</td>\n",
       "      <td>22118.0</td>\n",
       "      <td>46.00</td>\n",
       "      <td>54.54</td>\n",
       "    </tr>\n",
       "    <tr>\n",
       "      <th>3598</th>\n",
       "      <td>2015-06-01 01:00:00+00:00</td>\n",
       "      <td>495.0</td>\n",
       "      <td>10300.0</td>\n",
       "      <td>3010.0</td>\n",
       "      <td>7099.0</td>\n",
       "      <td>31.0</td>\n",
       "      <td>248.0</td>\n",
       "      <td>3008.0</td>\n",
       "      <td>43.0</td>\n",
       "      <td>73.0</td>\n",
       "      <td>20453.0</td>\n",
       "      <td>21015.0</td>\n",
       "      <td>43.84</td>\n",
       "      <td>53.87</td>\n",
       "    </tr>\n",
       "    <tr>\n",
       "      <th>3599</th>\n",
       "      <td>2015-06-01 02:00:00+00:00</td>\n",
       "      <td>491.0</td>\n",
       "      <td>9901.0</td>\n",
       "      <td>3675.0</td>\n",
       "      <td>7099.0</td>\n",
       "      <td>31.0</td>\n",
       "      <td>248.0</td>\n",
       "      <td>3205.0</td>\n",
       "      <td>43.0</td>\n",
       "      <td>71.0</td>\n",
       "      <td>19751.0</td>\n",
       "      <td>20518.0</td>\n",
       "      <td>40.13</td>\n",
       "      <td>54.20</td>\n",
       "    </tr>\n",
       "    <tr>\n",
       "      <th>3600</th>\n",
       "      <td>2015-06-01 03:00:00+00:00</td>\n",
       "      <td>493.0</td>\n",
       "      <td>9764.0</td>\n",
       "      <td>3773.0</td>\n",
       "      <td>7097.0</td>\n",
       "      <td>31.0</td>\n",
       "      <td>246.0</td>\n",
       "      <td>3287.0</td>\n",
       "      <td>43.0</td>\n",
       "      <td>69.0</td>\n",
       "      <td>19559.0</td>\n",
       "      <td>20478.0</td>\n",
       "      <td>40.00</td>\n",
       "      <td>55.87</td>\n",
       "    </tr>\n",
       "    <tr>\n",
       "      <th>3601</th>\n",
       "      <td>2015-06-01 04:00:00+00:00</td>\n",
       "      <td>488.0</td>\n",
       "      <td>10188.0</td>\n",
       "      <td>3777.0</td>\n",
       "      <td>7096.0</td>\n",
       "      <td>31.0</td>\n",
       "      <td>246.0</td>\n",
       "      <td>3382.0</td>\n",
       "      <td>43.0</td>\n",
       "      <td>71.0</td>\n",
       "      <td>20002.0</td>\n",
       "      <td>20926.0</td>\n",
       "      <td>43.32</td>\n",
       "      <td>61.28</td>\n",
       "    </tr>\n",
       "  </tbody>\n",
       "</table>\n",
       "</div>"
      ],
      "text/plain": [
       "                          time  generation biomass  generation fossil  \\\n",
       "3597 2015-06-01 00:00:00+00:00               495.0            11151.0   \n",
       "3598 2015-06-01 01:00:00+00:00               495.0            10300.0   \n",
       "3599 2015-06-01 02:00:00+00:00               491.0             9901.0   \n",
       "3600 2015-06-01 03:00:00+00:00               493.0             9764.0   \n",
       "3601 2015-06-01 04:00:00+00:00               488.0            10188.0   \n",
       "\n",
       "      generation hydro  generation nuclear  generation solar  \\\n",
       "3597            2877.0              7098.0              31.0   \n",
       "3598            3010.0              7099.0              31.0   \n",
       "3599            3675.0              7099.0              31.0   \n",
       "3600            3773.0              7097.0              31.0   \n",
       "3601            3777.0              7096.0              31.0   \n",
       "\n",
       "      generation waste  generation wind onshore  generation other  \\\n",
       "3597             244.0                   2815.0              43.0   \n",
       "3598             248.0                   3008.0              43.0   \n",
       "3599             248.0                   3205.0              43.0   \n",
       "3600             246.0                   3287.0              43.0   \n",
       "3601             246.0                   3382.0              43.0   \n",
       "\n",
       "      generation other renewable  total load forecast  total load actual  \\\n",
       "3597                        72.0              21585.0            22118.0   \n",
       "3598                        73.0              20453.0            21015.0   \n",
       "3599                        71.0              19751.0            20518.0   \n",
       "3600                        69.0              19559.0            20478.0   \n",
       "3601                        71.0              20002.0            20926.0   \n",
       "\n",
       "      price day ahead  price actual  \n",
       "3597            46.00         54.54  \n",
       "3598            43.84         53.87  \n",
       "3599            40.13         54.20  \n",
       "3600            40.00         55.87  \n",
       "3601            43.32         61.28  "
      ]
     },
     "execution_count": 106,
     "metadata": {},
     "output_type": "execute_result"
    }
   ],
   "source": [
    "\n",
    "energy['year'] = energy['time'].dt.year\n",
    "energy['month'] = energy['time'].dt.month\n",
    "\n",
    "summer_months = [6, 7, 8, 9]\n",
    "\n",
    "summer_energy = energy[(energy['year'].isin([2015, 2016, 2017, 2018])) & (energy['month'].isin(summer_months))]\n",
    "\n",
    "summer_energy = summer_energy.drop(['year', 'month'], axis=1)\n",
    "summer_energy.head()"
   ]
  },
  {
   "cell_type": "code",
   "execution_count": 107,
   "id": "5a6f7617-996a-41d0-955d-cd48c0004446",
   "metadata": {
    "tags": []
   },
   "outputs": [
    {
     "data": {
      "text/html": [
       "<div>\n",
       "<style scoped>\n",
       "    .dataframe tbody tr th:only-of-type {\n",
       "        vertical-align: middle;\n",
       "    }\n",
       "\n",
       "    .dataframe tbody tr th {\n",
       "        vertical-align: top;\n",
       "    }\n",
       "\n",
       "    .dataframe thead th {\n",
       "        text-align: right;\n",
       "    }\n",
       "</style>\n",
       "<table border=\"1\" class=\"dataframe\">\n",
       "  <thead>\n",
       "    <tr style=\"text-align: right;\">\n",
       "      <th></th>\n",
       "      <th>generation biomass</th>\n",
       "      <th>generation fossil</th>\n",
       "      <th>generation hydro</th>\n",
       "      <th>generation nuclear</th>\n",
       "      <th>generation solar</th>\n",
       "      <th>generation waste</th>\n",
       "      <th>generation wind onshore</th>\n",
       "      <th>generation other</th>\n",
       "      <th>generation other renewable</th>\n",
       "      <th>total load forecast</th>\n",
       "      <th>total load actual</th>\n",
       "      <th>price day ahead</th>\n",
       "      <th>price actual</th>\n",
       "    </tr>\n",
       "  </thead>\n",
       "  <tbody>\n",
       "    <tr>\n",
       "      <th>count</th>\n",
       "      <td>11705.000000</td>\n",
       "      <td>11705.000000</td>\n",
       "      <td>11705.000000</td>\n",
       "      <td>11705.000000</td>\n",
       "      <td>11705.000000</td>\n",
       "      <td>11705.000000</td>\n",
       "      <td>11705.000000</td>\n",
       "      <td>11705.000000</td>\n",
       "      <td>11705.000000</td>\n",
       "      <td>11705.000000</td>\n",
       "      <td>11705.000000</td>\n",
       "      <td>11705.000000</td>\n",
       "      <td>11705.000000</td>\n",
       "    </tr>\n",
       "    <tr>\n",
       "      <th>mean</th>\n",
       "      <td>394.136523</td>\n",
       "      <td>11210.170953</td>\n",
       "      <td>3418.142674</td>\n",
       "      <td>6371.659718</td>\n",
       "      <td>1817.503289</td>\n",
       "      <td>282.146262</td>\n",
       "      <td>4720.703033</td>\n",
       "      <td>60.354891</td>\n",
       "      <td>85.076207</td>\n",
       "      <td>28960.382401</td>\n",
       "      <td>28958.688509</td>\n",
       "      <td>51.454499</td>\n",
       "      <td>59.620023</td>\n",
       "    </tr>\n",
       "    <tr>\n",
       "      <th>std</th>\n",
       "      <td>77.858225</td>\n",
       "      <td>3490.922282</td>\n",
       "      <td>1758.172180</td>\n",
       "      <td>731.924683</td>\n",
       "      <td>1834.727596</td>\n",
       "      <td>41.559773</td>\n",
       "      <td>2737.817352</td>\n",
       "      <td>18.559030</td>\n",
       "      <td>14.007779</td>\n",
       "      <td>4467.942664</td>\n",
       "      <td>4463.935182</td>\n",
       "      <td>12.553497</td>\n",
       "      <td>11.345696</td>\n",
       "    </tr>\n",
       "    <tr>\n",
       "      <th>min</th>\n",
       "      <td>173.000000</td>\n",
       "      <td>3312.000000</td>\n",
       "      <td>685.000000</td>\n",
       "      <td>3834.000000</td>\n",
       "      <td>3.000000</td>\n",
       "      <td>92.000000</td>\n",
       "      <td>243.000000</td>\n",
       "      <td>4.000000</td>\n",
       "      <td>43.000000</td>\n",
       "      <td>18869.000000</td>\n",
       "      <td>18616.000000</td>\n",
       "      <td>2.790000</td>\n",
       "      <td>22.080000</td>\n",
       "    </tr>\n",
       "    <tr>\n",
       "      <th>25%</th>\n",
       "      <td>347.000000</td>\n",
       "      <td>8624.000000</td>\n",
       "      <td>2072.000000</td>\n",
       "      <td>5969.000000</td>\n",
       "      <td>266.000000</td>\n",
       "      <td>259.000000</td>\n",
       "      <td>2673.000000</td>\n",
       "      <td>53.000000</td>\n",
       "      <td>72.000000</td>\n",
       "      <td>25184.000000</td>\n",
       "      <td>25239.000000</td>\n",
       "      <td>43.690000</td>\n",
       "      <td>51.200000</td>\n",
       "    </tr>\n",
       "    <tr>\n",
       "      <th>50%</th>\n",
       "      <td>373.000000</td>\n",
       "      <td>11199.000000</td>\n",
       "      <td>2950.000000</td>\n",
       "      <td>6745.000000</td>\n",
       "      <td>763.000000</td>\n",
       "      <td>292.000000</td>\n",
       "      <td>4221.000000</td>\n",
       "      <td>57.000000</td>\n",
       "      <td>87.000000</td>\n",
       "      <td>29080.000000</td>\n",
       "      <td>29080.000000</td>\n",
       "      <td>51.360000</td>\n",
       "      <td>58.290000</td>\n",
       "    </tr>\n",
       "    <tr>\n",
       "      <th>75%</th>\n",
       "      <td>415.000000</td>\n",
       "      <td>13583.000000</td>\n",
       "      <td>4373.000000</td>\n",
       "      <td>6969.000000</td>\n",
       "      <td>3553.000000</td>\n",
       "      <td>314.000000</td>\n",
       "      <td>6219.000000</td>\n",
       "      <td>75.000000</td>\n",
       "      <td>96.000000</td>\n",
       "      <td>32459.000000</td>\n",
       "      <td>32404.000000</td>\n",
       "      <td>61.040000</td>\n",
       "      <td>68.390000</td>\n",
       "    </tr>\n",
       "    <tr>\n",
       "      <th>max</th>\n",
       "      <td>590.000000</td>\n",
       "      <td>24469.000000</td>\n",
       "      <td>10807.000000</td>\n",
       "      <td>7117.000000</td>\n",
       "      <td>5676.000000</td>\n",
       "      <td>355.000000</td>\n",
       "      <td>16284.000000</td>\n",
       "      <td>102.000000</td>\n",
       "      <td>119.000000</td>\n",
       "      <td>40625.000000</td>\n",
       "      <td>40693.000000</td>\n",
       "      <td>86.990000</td>\n",
       "      <td>89.180000</td>\n",
       "    </tr>\n",
       "  </tbody>\n",
       "</table>\n",
       "</div>"
      ],
      "text/plain": [
       "       generation biomass  generation fossil  generation hydro  \\\n",
       "count        11705.000000       11705.000000      11705.000000   \n",
       "mean           394.136523       11210.170953       3418.142674   \n",
       "std             77.858225        3490.922282       1758.172180   \n",
       "min            173.000000        3312.000000        685.000000   \n",
       "25%            347.000000        8624.000000       2072.000000   \n",
       "50%            373.000000       11199.000000       2950.000000   \n",
       "75%            415.000000       13583.000000       4373.000000   \n",
       "max            590.000000       24469.000000      10807.000000   \n",
       "\n",
       "       generation nuclear  generation solar  generation waste  \\\n",
       "count        11705.000000      11705.000000      11705.000000   \n",
       "mean          6371.659718       1817.503289        282.146262   \n",
       "std            731.924683       1834.727596         41.559773   \n",
       "min           3834.000000          3.000000         92.000000   \n",
       "25%           5969.000000        266.000000        259.000000   \n",
       "50%           6745.000000        763.000000        292.000000   \n",
       "75%           6969.000000       3553.000000        314.000000   \n",
       "max           7117.000000       5676.000000        355.000000   \n",
       "\n",
       "       generation wind onshore  generation other  generation other renewable  \\\n",
       "count             11705.000000      11705.000000                11705.000000   \n",
       "mean               4720.703033         60.354891                   85.076207   \n",
       "std                2737.817352         18.559030                   14.007779   \n",
       "min                 243.000000          4.000000                   43.000000   \n",
       "25%                2673.000000         53.000000                   72.000000   \n",
       "50%                4221.000000         57.000000                   87.000000   \n",
       "75%                6219.000000         75.000000                   96.000000   \n",
       "max               16284.000000        102.000000                  119.000000   \n",
       "\n",
       "       total load forecast  total load actual  price day ahead  price actual  \n",
       "count         11705.000000       11705.000000     11705.000000  11705.000000  \n",
       "mean          28960.382401       28958.688509        51.454499     59.620023  \n",
       "std            4467.942664        4463.935182        12.553497     11.345696  \n",
       "min           18869.000000       18616.000000         2.790000     22.080000  \n",
       "25%           25184.000000       25239.000000        43.690000     51.200000  \n",
       "50%           29080.000000       29080.000000        51.360000     58.290000  \n",
       "75%           32459.000000       32404.000000        61.040000     68.390000  \n",
       "max           40625.000000       40693.000000        86.990000     89.180000  "
      ]
     },
     "execution_count": 107,
     "metadata": {},
     "output_type": "execute_result"
    }
   ],
   "source": [
    "summer_energy.describe()"
   ]
  },
  {
   "cell_type": "markdown",
   "id": "e6ebfd9c-1f87-4373-884a-fda265113f1b",
   "metadata": {
    "tags": []
   },
   "source": [
    "## feature importance - all cols"
   ]
  },
  {
   "cell_type": "code",
   "execution_count": 126,
   "id": "b9d293f5-905b-486e-add8-5c62350f8516",
   "metadata": {
    "tags": []
   },
   "outputs": [
    {
     "data": {
      "image/png": "[encoded data removed]",
      "text/plain": [
       "<Figure size 1000x600 with 1 Axes>"
      ]
     },
     "metadata": {},
     "output_type": "display_data"
    }
   ],
   "source": [
    "X = summer_energy[[\"generation biomass\", \"generation fossil\", \"generation hydro\", \"generation nuclear\", \"generation solar\", \n",
    "           \"generation waste\", \"generation wind onshore\", \"generation other\", \"generation other renewable\", \n",
    "                  \"total load forecast\", \"total load actual\", \"price day ahead\"]]\n",
    "y = summer_energy[\"price actual\"]\n",
    "\n",
    "X_train, X_test, y_train, y_test = train_test_split(X, y, test_size=0.2, random_state=42)\n",
    "\n",
    "# Initialize and train the Random Forest model\n",
    "rf = RandomForestRegressor(n_estimators=100, random_state=42)\n",
    "rf.fit(X_train, y_train)\n",
    "# Get feature importance\n",
    "feature_importances = rf.feature_importances_\n",
    "\n",
    "# Create a DataFrame to visualize the feature importances\n",
    "features_df = pd.DataFrame({'Feature': X.columns, 'Importance': feature_importances})\n",
    "features_df = features_df.sort_values(by='Importance', ascending=False)\n",
    "\n",
    "# Plotting\n",
    "plt.figure(figsize=(10, 6))\n",
    "plt.bar(features_df['Feature'], features_df['Importance'], color='orange')\n",
    "plt.xlabel('Features')\n",
    "plt.ylabel('Importance')\n",
    "plt.xticks(rotation=45)\n",
    "plt.title('Feature Importance (Summer)')\n",
    "plt.show()"
   ]
  },
  {
   "cell_type": "markdown",
   "id": "e98e1c6d-77f4-4814-801c-4b2e24b280d6",
   "metadata": {
    "tags": []
   },
   "source": [
    "## feature importance - generation cols"
   ]
  },
  {
   "cell_type": "code",
   "execution_count": 109,
   "id": "7a88709c-7e5d-4d7b-b690-cdc355dcd4df",
   "metadata": {
    "tags": []
   },
   "outputs": [
    {
     "data": {
      "image/png": "[encoded data removed]",
      "text/plain": [
       "<Figure size 1000x600 with 1 Axes>"
      ]
     },
     "metadata": {},
     "output_type": "display_data"
    }
   ],
   "source": [
    "\n",
    "X = summer_energy[[\"generation biomass\", \"generation fossil\", \"generation hydro\", \"generation nuclear\", \"generation solar\", \n",
    "           \"generation waste\", \"generation wind onshore\", \"generation other\", \"generation other renewable\"]]\n",
    "y = summer_energy[\"price actual\"]\n",
    "\n",
    "X_train, X_test, y_train, y_test = train_test_split(X, y, test_size=0.2, random_state=42)\n",
    "\n",
    "# Initialize and train the Random Forest model\n",
    "rf = RandomForestRegressor(n_estimators=100, random_state=42)\n",
    "rf.fit(X_train, y_train)\n",
    "# Get feature importance\n",
    "feature_importances = rf.feature_importances_\n",
    "\n",
    "# Create a DataFrame to visualize the feature importances\n",
    "features_df = pd.DataFrame({'Feature': X.columns, 'Importance': feature_importances})\n",
    "features_df = features_df.sort_values(by='Importance', ascending=False)\n",
    "\n",
    "# Plotting\n",
    "plt.figure(figsize=(10, 6))\n",
    "plt.bar(features_df['Feature'], features_df['Importance'], color='skyblue')\n",
    "plt.xlabel('Features')\n",
    "plt.ylabel('Importance')\n",
    "plt.xticks(rotation=45)\n",
    "plt.title('Feature Importance')\n",
    "plt.show()"
   ]
  },
  {
   "cell_type": "markdown",
   "id": "41921137-4c3e-4811-af99-0a98ffb96006",
   "metadata": {
    "tags": []
   },
   "source": [
    "## correlation - all cols"
   ]
  },
  {
   "cell_type": "code",
   "execution_count": 110,
   "id": "4f5a50e4-c817-4e71-9b6d-fb5e168fab43",
   "metadata": {
    "tags": []
   },
   "outputs": [
    {
     "name": "stdout",
     "output_type": "stream",
     "text": [
      "Top predictor variables:\n",
      "price day ahead            0.747601\n",
      "generation fossil          0.406931\n",
      "total load forecast        0.399753\n",
      "total load actual          0.398894\n",
      "generation biomass         0.276442\n",
      "generation wind onshore    0.259788\n",
      "generation other           0.206167\n",
      "generation solar           0.199393\n",
      "generation hydro           0.197596\n",
      "Name: price actual, dtype: float64\n"
     ]
    },
    {
     "name": "stderr",
     "output_type": "stream",
     "text": [
      "/var/folders/l6/r_xvzzfd4bz5k_gjy82lbn6r0000gn/T/ipykernel_779/2766790270.py:2: FutureWarning: The default value of numeric_only in DataFrame.corr is deprecated. In a future version, it will default to False. Select only valid columns or specify the value of numeric_only to silence this warning.\n",
      "  correlation_matrix = summer_energy.corr()\n"
     ]
    }
   ],
   "source": [
    "# Calculate correlation coefficients\n",
    "correlation_matrix = summer_energy.corr()\n",
    "correlation_with_price_actual = correlation_matrix['price actual'].abs().sort_values(ascending=False)\n",
    "\n",
    "# Select top correlated predictor variables\n",
    "top_predictors = correlation_with_price_actual[1:10]  # Excluding 'price actual' itself\n",
    "print(\"Top predictor variables:\")\n",
    "print(top_predictors)"
   ]
  },
  {
   "cell_type": "markdown",
   "id": "c08d4d96-9e9a-471b-bda1-07b3ed669a0e",
   "metadata": {},
   "source": [
    "## regression models"
   ]
  },
  {
   "cell_type": "markdown",
   "id": "672caa1c-6857-4d20-affd-277cb8444e6f",
   "metadata": {
    "tags": []
   },
   "source": [
    "### linear regression"
   ]
  },
  {
   "cell_type": "code",
   "execution_count": 116,
   "id": "10d4923f-2e0a-4c08-bc01-4edb0ab7ed34",
   "metadata": {
    "tags": []
   },
   "outputs": [
    {
     "name": "stdout",
     "output_type": "stream",
     "text": [
      "                      Feature  Coefficient\n",
      "0             price day ahead     0.776017\n",
      "1           generation fossil    -0.000892\n",
      "2         total load forecast     0.000571\n",
      "3          generation nuclear    -0.001218\n",
      "4  generation other renewable    -0.043645\n",
      "5            generation waste    -0.036331\n",
      "6          generation biomass     0.013277\n",
      "Intercept: 29.64641266720129\n",
      "R-squared: 0.6687143060176688\n",
      "Mean Absolute Error: 4.6619744214263905\n",
      "Mean Squared Error: 42.28983072202916\n",
      "Root Mean Squared Error: 6.503063179919842\n"
     ]
    }
   ],
   "source": [
    "\n",
    "X = summer_energy[[\"price day ahead\", \"generation fossil\", \"total load forecast\", \n",
    "                   \"generation nuclear\", \"generation other renewable\", \"generation waste\", \"generation biomass\"]]\n",
    "y = summer_energy[\"price actual\"]\n",
    "\n",
    "X_train, X_test, y_train, y_test = train_test_split(X, y, test_size=0.2, random_state=42)\n",
    "lr = LinearRegression()\n",
    "lr.fit(X_train, y_train)\n",
    "\n",
    "# Get coefficients\n",
    "coefficients = lr.coef_\n",
    "\n",
    "# Create a DataFrame to display feature names and their coefficients\n",
    "coefficients_df = pd.DataFrame({'Feature': X.columns, 'Coefficient': coefficients})\n",
    "print(coefficients_df)\n",
    "\n",
    "# Intercept\n",
    "print(f\"Intercept: {lr.intercept_}\")\n",
    "\n",
    "# Make predictions on the test set\n",
    "y_pred = lr.predict(X_test)\n",
    "\n",
    "# Calculate R-squared\n",
    "r2 = r2_score(y_test, y_pred)\n",
    "\n",
    "# Calculate MAE\n",
    "mae = mean_absolute_error(y_test, y_pred)\n",
    "\n",
    "# Calculate MSE\n",
    "mse = mean_squared_error(y_test, y_pred)\n",
    "\n",
    "# Calculate RMSE\n",
    "rmse = np.sqrt(mse)\n",
    "\n",
    "print(\"R-squared:\", r2)\n",
    "print(\"Mean Absolute Error:\", mae)\n",
    "print(\"Mean Squared Error:\", mse)\n",
    "print(\"Root Mean Squared Error:\", rmse)"
   ]
  },
  {
   "cell_type": "markdown",
   "id": "86a5d414-15e1-4c2f-9a04-c4e0a65d1935",
   "metadata": {
    "tags": []
   },
   "source": [
    "### k nearest neighbors"
   ]
  },
  {
   "cell_type": "code",
   "execution_count": 117,
   "id": "67fef4d1-4a17-4912-8b22-88d707a2df9f",
   "metadata": {
    "tags": []
   },
   "outputs": [
    {
     "name": "stdout",
     "output_type": "stream",
     "text": [
      "R-squared: 0.33365175011918846\n",
      "Mean Absolute Error: 7.0881990602306715\n",
      "Mean Squared Error: 85.06179168389578\n",
      "Root Mean Squared Error: 9.222894973049177\n"
     ]
    }
   ],
   "source": [
    "\n",
    "k = 5  \n",
    "knn_model = KNeighborsRegressor(n_neighbors=k)\n",
    "knn_model.fit(X_train, y_train)\n",
    "\n",
    "y_pred = knn_model.predict(X_test)\n",
    "\n",
    "r_squared = knn_model.score(X_test, y_test)\n",
    "mae = mean_absolute_error(y_test, y_pred)\n",
    "mse = mean_squared_error(y_test, y_pred)\n",
    "rmse = mean_squared_error(y_test, y_pred, squared=False) \n",
    "\n",
    "print(\"R-squared:\", r_squared)\n",
    "print(\"Mean Absolute Error:\", mae)\n",
    "print(\"Mean Squared Error:\", mse)\n",
    "print(\"Root Mean Squared Error:\", rmse)\n"
   ]
  },
  {
   "cell_type": "markdown",
   "id": "955ed8ff-ffe1-4a41-a8ef-0c563ed7cdd7",
   "metadata": {},
   "source": [
    "### random forest regressor"
   ]
  },
  {
   "cell_type": "code",
   "execution_count": 118,
   "id": "e4717dee-8e94-4c3b-af7d-d0693d08b328",
   "metadata": {
    "tags": []
   },
   "outputs": [
    {
     "name": "stdout",
     "output_type": "stream",
     "text": [
      "R-squared: 0.909386409104208\n",
      "Adjusted R^2: 0.9093321819402966\n",
      "Mean Absolute Error: 2.052678769756515\n",
      "Mean Squared Error: 11.567156353882956\n",
      "Root Mean Squared Error: 3.4010522421572644\n"
     ]
    }
   ],
   "source": [
    "\n",
    "rf_model = RandomForestRegressor(random_state=42)\n",
    "rf_model.fit(X_train, y_train)\n",
    "\n",
    "y_pred = rf_model.predict(X_test)\n",
    "\n",
    "r_squared = rf_model.score(X_test, y_test)\n",
    "mae = mean_absolute_error(y_test, y_pred)\n",
    "mse = mean_squared_error(y_test, y_pred)\n",
    "rmse = mean_squared_error(y_test, y_pred, squared=False) \n",
    "\n",
    "# Number of samples\n",
    "n = len(y)\n",
    "\n",
    "# Number of predictors (features)\n",
    "k = X.shape[1]\n",
    "\n",
    "# Calculate adjusted R^2\n",
    "adjusted_r_squared = 1 - (1 - r_squared) * (n - 1) / (n - k - 1)\n",
    "\n",
    "print(\"R-squared:\", r_squared)\n",
    "print(\"Adjusted R^2:\", adjusted_r_squared)\n",
    "print(\"Mean Absolute Error:\", mae)\n",
    "print(\"Mean Squared Error:\", mse)\n",
    "print(\"Root Mean Squared Error:\", rmse)"
   ]
  },
  {
   "cell_type": "markdown",
   "id": "ac8a9893-5673-421b-8f3d-9a961e52d2fd",
   "metadata": {},
   "source": [
    "### xgboost"
   ]
  },
  {
   "cell_type": "code",
   "execution_count": 119,
   "id": "9c5f24a5-94f0-42d6-b11a-6dcc7f133f3f",
   "metadata": {
    "tags": []
   },
   "outputs": [
    {
     "name": "stdout",
     "output_type": "stream",
     "text": [
      "R-squared: 0.9131939529493077\n",
      "Mean Absolute Error: 2.229311546055184\n",
      "Mean Squared Error: 11.081109453576536\n",
      "Root Mean Squared Error: 3.3288300427592477\n"
     ]
    }
   ],
   "source": [
    "\n",
    "xgb_model = xgb.XGBRegressor(random_state=42)\n",
    "xgb_model.fit(X_train, y_train)\n",
    "\n",
    "y_pred = xgb_model.predict(X_test)\n",
    "\n",
    "r_squared = xgb_model.score(X_test, y_test)\n",
    "mae = mean_absolute_error(y_test, y_pred)\n",
    "mse = mean_squared_error(y_test, y_pred)\n",
    "rmse = mean_squared_error(y_test, y_pred, squared=False) \n",
    "\n",
    "print(\"R-squared:\", r_squared)\n",
    "print(\"Mean Absolute Error:\", mae)\n",
    "print(\"Mean Squared Error:\", mse)\n",
    "print(\"Root Mean Squared Error:\", rmse)\n"
   ]
  },
  {
   "cell_type": "code",
   "execution_count": null,
   "id": "d321468f-435f-4662-9918-0ef2fcfa7d63",
   "metadata": {},
   "outputs": [],
   "source": []
  },
  {
   "cell_type": "code",
   "execution_count": 130,
   "id": "d96cbf62-6c11-48a9-86f7-9efb1aae028e",
   "metadata": {
    "tags": []
   },
   "outputs": [
    {
     "data": {
      "image/png": "[encoded data removed]",
      "text/plain": [
       "<Figure size 1200x800 with 1 Axes>"
      ]
     },
     "metadata": {},
     "output_type": "display_data"
    }
   ],
   "source": [
    "import pandas as pd\n",
    "from sklearn.ensemble import RandomForestRegressor\n",
    "from sklearn.model_selection import train_test_split\n",
    "import matplotlib.pyplot as plt\n",
    "import seaborn as sns\n",
    "\n",
    "# Assuming you already have winter_energy and summer_energy DataFrames\n",
    "\n",
    "# Extracting features and target for winter data\n",
    "X_winter = winter_energy[[\"generation biomass\", \"generation fossil\", \"generation hydro\", \"generation nuclear\", \"generation solar\", \n",
    "                           \"generation waste\", \"generation wind onshore\", \"generation other\", \"generation other renewable\", \n",
    "                           \"total load forecast\", \"total load actual\", \"price day ahead\"]]\n",
    "y_winter = winter_energy[\"price actual\"]\n",
    "\n",
    "# Extracting features and target for summer data\n",
    "X_summer = summer_energy[[\"generation biomass\", \"generation fossil\", \"generation hydro\", \"generation nuclear\", \"generation solar\", \n",
    "                           \"generation waste\", \"generation wind onshore\", \"generation other\", \"generation other renewable\", \n",
    "                           \"total load forecast\", \"total load actual\", \"price day ahead\"]]\n",
    "y_summer = summer_energy[\"price actual\"]\n",
    "\n",
    "# Splitting winter data into train and test sets\n",
    "X_train_winter, X_test_winter, y_train_winter, y_test_winter = train_test_split(X_winter, y_winter, test_size=0.2, random_state=42)\n",
    "\n",
    "# Splitting summer data into train and test sets\n",
    "X_train_summer, X_test_summer, y_train_summer, y_test_summer = train_test_split(X_summer, y_summer, test_size=0.2, random_state=42)\n",
    "\n",
    "# Initialize and train the Random Forest models for winter and summer\n",
    "rf_winter = RandomForestRegressor(n_estimators=100, random_state=42)\n",
    "rf_winter.fit(X_train_winter, y_train_winter)\n",
    "\n",
    "rf_summer = RandomForestRegressor(n_estimators=100, random_state=42)\n",
    "rf_summer.fit(X_train_summer, y_train_summer)\n",
    "\n",
    "# Get feature importances for winter and summer\n",
    "feature_importances_winter = rf_winter.feature_importances_\n",
    "feature_importances_summer = rf_summer.feature_importances_\n",
    "\n",
    "# Create DataFrames to visualize the feature importances for winter and summer\n",
    "features_df_winter = pd.DataFrame({'Feature': X_winter.columns, 'Importance': feature_importances_winter})\n",
    "features_df_winter['Season'] = 'Winter'\n",
    "\n",
    "features_df_summer = pd.DataFrame({'Feature': X_summer.columns, 'Importance': feature_importances_summer})\n",
    "features_df_summer['Season'] = 'Summer'\n",
    "\n",
    "# Concatenate the DataFrames for winter and summer\n",
    "combined_features_df = pd.concat([features_df_winter, features_df_summer])\n",
    "\n",
    "# Sort the combined DataFrame in descending order by Importance\n",
    "combined_features_df = combined_features_df.sort_values(by='Importance', ascending=False)\n",
    "\n",
    "# Plotting\n",
    "plt.figure(figsize=(12, 8))\n",
    "sns.barplot(x='Feature', y='Importance', hue='Season', data=combined_features_df, palette=['skyblue', 'orange'])\n",
    "plt.xlabel('Features')\n",
    "plt.ylabel('Importance')\n",
    "plt.title('Feature Importance Comparison between Winter and Summer')\n",
    "plt.xticks(rotation=45)\n",
    "plt.legend(title='Season')\n",
    "plt.tight_layout()\n",
    "plt.show()\n"
   ]
  }
 ],
 "metadata": {
  "kernelspec": {
   "display_name": "Python 3 (ipykernel)",
   "language": "python",
   "name": "python3"
  },
  "language_info": {
   "codemirror_mode": {
    "name": "ipython",
    "version": 3
   },
   "file_extension": ".py",
   "mimetype": "text/x-python",
   "name": "python",
   "nbconvert_exporter": "python",
   "pygments_lexer": "ipython3",
   "version": "3.11.4"
  }
 },
 "nbformat": 4,
 "nbformat_minor": 5
}
